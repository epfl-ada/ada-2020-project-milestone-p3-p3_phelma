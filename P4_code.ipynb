{
 "cells": [
  {
   "cell_type": "markdown",
   "metadata": {},
   "source": [
    "# P4 Milestone - Retweets prediction\n"
   ]
  },
  {
   "cell_type": "code",
   "execution_count": 1,
   "metadata": {},
   "outputs": [],
   "source": [
    "import pandas as pd\n",
    "import numpy as np\n",
    "import matplotlib.pyplot as plt\n",
    "import matplotlib.cm as cm\n",
    "import seaborn as sns\n",
    "import random\n",
    "import math\n",
    "import scipy as sp\n",
    "from itertools import combinations \n",
    "import ast\n",
    "\n",
    "from sklearn.datasets import make_blobs, make_moons\n",
    "from sklearn.cluster import KMeans, DBSCAN\n",
    "from sklearn.metrics import silhouette_score\n",
    "from sklearn.manifold import TSNE\n",
    "from sklearn.decomposition import PCA\n",
    "from sklearn.preprocessing import StandardScaler\n",
    "\n",
    "from sklearn.linear_model import LinearRegression, LogisticRegression, Ridge\n",
    "from sklearn.neighbors import*\n",
    "from sklearn.model_selection import*\n",
    "from sklearn.ensemble import*\n",
    "from sklearn.metrics import*\n",
    "from sklearn.preprocessing import*"
   ]
  },
  {
   "cell_type": "code",
   "execution_count": 3,
   "metadata": {},
   "outputs": [],
   "source": [
    "\n",
    "\n",
    "Ego_dataset = \"EgoALterProfiles.txt\"\n",
    "Ego_timelines = \"EgoTimelines.txt\"\n",
    "\n",
    "timelines = pd.read_csv(Ego_timelines,compression=None,header=0,sep=None,error_bad_lines=False,delim_whitespace=False,na_values='\\t',skipinitialspace=False, engine='python')\n",
    "\n",
    "# Loading the data with regards to set delimiter on tab.\n",
    "profiles = pd.read_csv(Ego_dataset, delimiter=\"\\t\", error_bad_lines=False)"
   ]
  },
  {
   "cell_type": "markdown",
   "metadata": {},
   "source": [
    "## Processing Part"
   ]
  },
  {
   "cell_type": "markdown",
   "metadata": {},
   "source": [
    "### *Adding follower count to timelines*"
   ]
  },
  {
   "cell_type": "code",
   "execution_count": 4,
   "metadata": {},
   "outputs": [],
   "source": [
    "# add follower count in timeline\n",
    "followers = np.zeros(len(timelines))\n",
    "friends = np.zeros(len(timelines))\n",
    "p = 0\n",
    "profiles3 = profiles.loc[profiles.IsEgo == True].set_index('ID')\n",
    "\n",
    "for i in (range(len(timelines))):\n",
    "    if timelines['egoID'].iloc[i] == profiles3.index[p]:\n",
    "        followers[i] = profiles3.followers_count.iloc[p]\n",
    "        friends[i] = profiles3.friends_count.iloc[p]\n",
    "    else:\n",
    "        followers[i] = profiles3.followers_count.iloc[p+1]\n",
    "        friends[i] = profiles3.friends_count.iloc[p+1]\n",
    "        p+=1"
   ]
  },
  {
   "cell_type": "code",
   "execution_count": 5,
   "metadata": {},
   "outputs": [],
   "source": [
    "timelines['follower_count'] = followers\n",
    "timelines['friends_count'] = friends"
   ]
  },
  {
   "cell_type": "markdown",
   "metadata": {},
   "source": [
    "### *Visualization of different parameters influence on retweet count*"
   ]
  },
  {
   "cell_type": "markdown",
   "metadata": {},
   "source": [
    "#### <font color='purple'>1) Function of follower count and friends count </font> "
   ]
  },
  {
   "cell_type": "code",
   "execution_count": 6,
   "metadata": {},
   "outputs": [],
   "source": [
    "# we do not take into account reply, mention and retweet\n",
    "\n",
    "timelines = timelines.fillna(0)\n",
    "timelines2 = timelines.loc[timelines.retweeted_userid==0]\n",
    "timelines3 = timelines2.loc[timelines2.replyto_userid==0]\n",
    "timelines4 = timelines3.loc[timelines3.mentions_ids==0]\n",
    "timelines4 = timelines4.loc[timelines4.replytoUserID==0]\n",
    "timelines4 = timelines4.loc[timelines4.retweetedUserID==0]\n",
    "\n",
    "timelines4['ones'] = np.ones(len(timelines4))"
   ]
  },
  {
   "cell_type": "code",
   "execution_count": 7,
   "metadata": {},
   "outputs": [],
   "source": [
    "# Isolation of the tweets from 2014 because it is closer in time to the publication\n",
    "# and so the number of followers of each person at the moment of the tweet is closer to the number at the moment of the publication\n",
    "\n",
    "timelines4[['Day','Month', 'Date', 'Hour', 'Se', 'Year']] = timelines4.created_at.str.split(\" \",expand=True,)\n",
    "\n",
    "timelines_red = timelines4[(timelines4['Year'] == '2014')]"
   ]
  },
  {
   "cell_type": "markdown",
   "metadata": {},
   "source": [
    "# Cluster"
   ]
  },
  {
   "cell_type": "code",
   "execution_count": 12,
   "metadata": {},
   "outputs": [
    {
     "name": "stderr",
     "output_type": "stream",
     "text": [
      "<ipython-input-12-b8ac5e506965>:22: SettingWithCopyWarning: \n",
      "A value is trying to be set on a copy of a slice from a DataFrame.\n",
      "Try using .loc[row_indexer,col_indexer] = value instead\n",
      "\n",
      "See the caveats in the documentation: https://pandas.pydata.org/pandas-docs/stable/user_guide/indexing.html#returning-a-view-versus-a-copy\n",
      "  cluster['url'] = url\n",
      "<ipython-input-12-b8ac5e506965>:23: SettingWithCopyWarning: \n",
      "A value is trying to be set on a copy of a slice from a DataFrame.\n",
      "Try using .loc[row_indexer,col_indexer] = value instead\n",
      "\n",
      "See the caveats in the documentation: https://pandas.pydata.org/pandas-docs/stable/user_guide/indexing.html#returning-a-view-versus-a-copy\n",
      "  cluster['hashtag'] = hashtag\n"
     ]
    }
   ],
   "source": [
    "# identification of clusters with number of followers, friends, the presence of hashtag and url\n",
    "# cluster coulkd help us to work on group of similar data to improve the prevision in the number of retweets\n",
    "\n",
    "cluster = timelines_red[['follower_count','friends_count', 'retweet_count', 'hashtags', 'urls']]\n",
    "\n",
    "# converting the presence of url or hashtag into numbers\n",
    "\n",
    "hashtag = np.zeros(len(cluster))\n",
    "url = np.zeros(len(cluster))\n",
    "\n",
    "for i in (range(len(cluster))):\n",
    "    if cluster.urls.iloc[i] == 0:\n",
    "        url[i] = 0\n",
    "    else:\n",
    "        url[i] = 1\n",
    "        \n",
    "    if cluster.hashtags.iloc[i] == 0:\n",
    "        hashtag[i] = 0\n",
    "    else:\n",
    "        hashtag[i] = 1   \n",
    "\n",
    "cluster['url'] = url\n",
    "cluster['hashtag'] = hashtag"
   ]
  },
  {
   "cell_type": "code",
   "execution_count": 11,
   "metadata": {},
   "outputs": [
    {
     "data": {
      "image/png": "[encoded data removed]",
      "text/plain": [
       "<Figure size 1008x144 with 4 Axes>"
      ]
     },
     "metadata": {
      "needs_background": "light"
     },
     "output_type": "display_data"
    }
   ],
   "source": [
    "# plotting histograms to have the distribution of the different features\n",
    "\n",
    "columns = clusters.columns\n",
    "\n",
    "fig, axs = plt.subplots(1, len(columns), figsize=(14,2), sharex=False)\n",
    "\n",
    "for column_idx in range(0, len(columns)):\n",
    "    clusters[columns[column_idx]].hist(bins=20, ax=axs[column_idx], alpha=0.6)\n",
    "    axs[column_idx].set_title(columns[column_idx])\n",
    "    \n",
    "plt.tight_layout()"
   ]
  },
  {
   "cell_type": "code",
   "execution_count": 12,
   "metadata": {},
   "outputs": [
    {
     "name": "stdout",
     "output_type": "stream",
     "text": [
      "Scaled sample: [-0.17102204 -0.41774821 -0.27467711 -0.5498574 ]\n"
     ]
    }
   ],
   "source": [
    "scaled_features = StandardScaler().fit(clusters_test).transform(clusters_test)\n",
    "print(\"Scaled sample: %s\" %scaled_features[0])"
   ]
  },
  {
   "cell_type": "code",
   "execution_count": 15,
   "metadata": {},
   "outputs": [
    {
     "name": "stdout",
     "output_type": "stream",
     "text": [
      "Scaled sample: [-0.17102204 -0.27467711]\n"
     ]
    }
   ],
   "source": [
    "scaled_features = StandardScaler().fit(clusters_test).transform(clusters_test)\n",
    "print(\"Scaled sample: %s\" %scaled_features[0])"
   ]
  },
  {
   "cell_type": "markdown",
   "metadata": {},
   "source": [
    "##### Elbow test"
   ]
  },
  {
   "cell_type": "code",
   "execution_count": 16,
   "metadata": {},
   "outputs": [],
   "source": [
    "def plot_sse(features_X, start=2, end=11):\n",
    "    sse = []\n",
    "    for k in range(start, end):\n",
    "        # Assign the labels to the clusters\n",
    "        kmeans = KMeans(n_clusters=k, random_state=10).fit(features_X)\n",
    "        sse.append({\"k\": k, \"sse\": kmeans.inertia_})\n",
    "\n",
    "    sse = pd.DataFrame(sse)\n",
    "    # Plot the data\n",
    "    plt.plot(sse.k, sse.sse)\n",
    "    plt.xlabel(\"K\")\n",
    "    plt.ylabel(\"Sum of Squared Errors\")\n"
   ]
  },
  {
   "cell_type": "code",
   "execution_count": 17,
   "metadata": {},
   "outputs": [
    {
     "data": {
      "image/png": "[encoded data removed]",
      "text/plain": [
       "<Figure size 432x288 with 1 Axes>"
      ]
     },
     "metadata": {
      "needs_background": "light"
     },
     "output_type": "display_data"
    }
   ],
   "source": [
    "plot_sse(scaled_features)"
   ]
  },
  {
   "cell_type": "code",
   "execution_count": null,
   "metadata": {},
   "outputs": [],
   "source": [
    "' elbow test underlining that the optimal number of clusters is 5'"
   ]
  },
  {
   "cell_type": "code",
   "execution_count": 21,
   "metadata": {},
   "outputs": [],
   "source": [
    "labels = KMeans(n_clusters=8, random_state=0).fit_predict(scaled_features)"
   ]
  },
  {
   "cell_type": "code",
   "execution_count": 22,
   "metadata": {},
   "outputs": [
    {
     "name": "stderr",
     "output_type": "stream",
     "text": [
      "<ipython-input-22-38acd09f55e9>:3: SettingWithCopyWarning: \n",
      "A value is trying to be set on a copy of a slice from a DataFrame.\n",
      "Try using .loc[row_indexer,col_indexer] = value instead\n",
      "\n",
      "See the caveats in the documentation: https://pandas.pydata.org/pandas-docs/stable/user_guide/indexing.html#returning-a-view-versus-a-copy\n",
      "  cluster['groupe'] = labels\n"
     ]
    }
   ],
   "source": [
    "# adding the cluster in the data\n",
    "\n",
    "cluster['groupe'] = labels"
   ]
  },
  {
   "cell_type": "markdown",
   "metadata": {},
   "source": [
    "##### standard deviation of clusters"
   ]
  },
  {
   "cell_type": "code",
   "execution_count": 23,
   "metadata": {},
   "outputs": [
    {
     "name": "stdout",
     "output_type": "stream",
     "text": [
      "[ 4.00614998 46.93512147  0.33728684  5.44536889 24.9776017 ] [744013.   2400.   1289.   9452.   2676.]\n"
     ]
    }
   ],
   "source": [
    "standard = np.zeros(5)\n",
    "longueur = np.zeros(5)\n",
    "\n",
    "for i in range (5):\n",
    "    groupe = cluster[(cluster['groupe'] == i)]\n",
    "    standard[i] = groupe['retweet_count'].std()\n",
    "    longueur[i] = len(groupe['retweet_count'])\n",
    "    \n",
    "print(standard, longueur)"
   ]
  },
  {
   "cell_type": "markdown",
   "metadata": {},
   "source": [
    "##### standard deviation of data"
   ]
  },
  {
   "cell_type": "code",
   "execution_count": 18,
   "metadata": {},
   "outputs": [
    {
     "data": {
      "text/plain": [
       "7.21324594997515"
      ]
     },
     "execution_count": 18,
     "metadata": {},
     "output_type": "execute_result"
    }
   ],
   "source": [
    "cluster['retweet_count'].std()"
   ]
  },
  {
   "cell_type": "code",
   "execution_count": 35,
   "metadata": {},
   "outputs": [
    {
     "data": {
      "text/html": [
       "<div>\n",
       "<style scoped>\n",
       "    .dataframe tbody tr th:only-of-type {\n",
       "        vertical-align: middle;\n",
       "    }\n",
       "\n",
       "    .dataframe tbody tr th {\n",
       "        vertical-align: top;\n",
       "    }\n",
       "\n",
       "    .dataframe thead th {\n",
       "        text-align: right;\n",
       "    }\n",
       "</style>\n",
       "<table border=\"1\" class=\"dataframe\">\n",
       "  <thead>\n",
       "    <tr style=\"text-align: right;\">\n",
       "      <th></th>\n",
       "      <th>follower_count</th>\n",
       "      <th>friends_count</th>\n",
       "      <th>retweet_count</th>\n",
       "    </tr>\n",
       "  </thead>\n",
       "  <tbody>\n",
       "    <tr>\n",
       "      <th>85</th>\n",
       "      <td>65.0</td>\n",
       "      <td>118.0</td>\n",
       "      <td>0</td>\n",
       "    </tr>\n",
       "    <tr>\n",
       "      <th>86</th>\n",
       "      <td>65.0</td>\n",
       "      <td>118.0</td>\n",
       "      <td>0</td>\n",
       "    </tr>\n",
       "    <tr>\n",
       "      <th>89</th>\n",
       "      <td>65.0</td>\n",
       "      <td>118.0</td>\n",
       "      <td>0</td>\n",
       "    </tr>\n",
       "    <tr>\n",
       "      <th>90</th>\n",
       "      <td>65.0</td>\n",
       "      <td>118.0</td>\n",
       "      <td>0</td>\n",
       "    </tr>\n",
       "    <tr>\n",
       "      <th>91</th>\n",
       "      <td>65.0</td>\n",
       "      <td>118.0</td>\n",
       "      <td>0</td>\n",
       "    </tr>\n",
       "    <tr>\n",
       "      <th>...</th>\n",
       "      <td>...</td>\n",
       "      <td>...</td>\n",
       "      <td>...</td>\n",
       "    </tr>\n",
       "    <tr>\n",
       "      <th>4702006</th>\n",
       "      <td>194.0</td>\n",
       "      <td>95.0</td>\n",
       "      <td>4</td>\n",
       "    </tr>\n",
       "    <tr>\n",
       "      <th>4702007</th>\n",
       "      <td>194.0</td>\n",
       "      <td>95.0</td>\n",
       "      <td>0</td>\n",
       "    </tr>\n",
       "    <tr>\n",
       "      <th>4702017</th>\n",
       "      <td>194.0</td>\n",
       "      <td>95.0</td>\n",
       "      <td>0</td>\n",
       "    </tr>\n",
       "    <tr>\n",
       "      <th>4702021</th>\n",
       "      <td>194.0</td>\n",
       "      <td>95.0</td>\n",
       "      <td>0</td>\n",
       "    </tr>\n",
       "    <tr>\n",
       "      <th>4702022</th>\n",
       "      <td>194.0</td>\n",
       "      <td>95.0</td>\n",
       "      <td>1</td>\n",
       "    </tr>\n",
       "  </tbody>\n",
       "</table>\n",
       "<p>880285 rows × 3 columns</p>\n",
       "</div>"
      ],
      "text/plain": [
       "         follower_count  friends_count  retweet_count\n",
       "85                 65.0          118.0              0\n",
       "86                 65.0          118.0              0\n",
       "89                 65.0          118.0              0\n",
       "90                 65.0          118.0              0\n",
       "91                 65.0          118.0              0\n",
       "...                 ...            ...            ...\n",
       "4702006           194.0           95.0              4\n",
       "4702007           194.0           95.0              0\n",
       "4702017           194.0           95.0              0\n",
       "4702021           194.0           95.0              0\n",
       "4702022           194.0           95.0              1\n",
       "\n",
       "[880285 rows x 3 columns]"
      ]
     },
     "execution_count": 35,
     "metadata": {},
     "output_type": "execute_result"
    }
   ],
   "source": [
    "clusters_test"
   ]
  },
  {
   "cell_type": "code",
   "execution_count": 42,
   "metadata": {
    "collapsed": true,
    "jupyter": {
     "outputs_hidden": true
    }
   },
   "outputs": [
    {
     "name": "stdout",
     "output_type": "stream",
     "text": [
      "1.118190346206606 1.3636363636363635\n",
      "88840\n",
      "1.6243961216415885 1.6672077922077921\n",
      "88224\n",
      "3 88224\n",
      "nan nan\n",
      "nan nan\n",
      "nan nan\n",
      "4 88224\n",
      "nan nan\n",
      "nan nan\n",
      "nan nan\n",
      "nan nan\n",
      "5 88224\n",
      "nan nan\n",
      "nan nan\n",
      "nan nan\n",
      "nan nan\n",
      "nan nan\n",
      "6 88224\n",
      "nan nan\n",
      "nan nan\n",
      "nan nan\n",
      "nan nan\n",
      "nan nan\n",
      "nan nan\n",
      "7 88224\n",
      "nan nan\n",
      "nan nan\n",
      "nan nan\n",
      "nan nan\n",
      "nan nan\n",
      "nan nan\n",
      "nan nan\n",
      "8 88224\n",
      "nan nan\n",
      "nan nan\n",
      "nan nan\n",
      "nan nan\n",
      "nan nan\n",
      "nan nan\n",
      "nan nan\n",
      "nan nan\n",
      "9 88224\n",
      "nan nan\n",
      "nan nan\n",
      "nan nan\n",
      "nan nan\n",
      "nan nan\n",
      "nan nan\n",
      "nan nan\n",
      "nan nan\n",
      "nan nan\n",
      "10 88224\n",
      "nan nan\n",
      "nan nan\n",
      "nan nan\n",
      "nan nan\n",
      "nan nan\n",
      "nan nan\n",
      "nan nan\n",
      "nan nan\n",
      "nan nan\n",
      "nan nan\n",
      "11 88224\n",
      "nan nan\n",
      "nan nan\n",
      "nan nan\n",
      "nan nan\n",
      "nan nan\n",
      "nan nan\n",
      "nan nan\n",
      "nan nan\n",
      "nan nan\n",
      "nan nan\n",
      "nan nan\n",
      "12 88224\n",
      "nan nan\n",
      "nan nan\n",
      "nan nan\n",
      "nan nan\n",
      "nan nan\n",
      "nan nan\n",
      "nan nan\n",
      "nan nan\n",
      "nan nan\n",
      "nan nan\n",
      "nan nan\n",
      "nan nan\n",
      "13 88224\n",
      "nan nan\n",
      "nan nan\n",
      "nan nan\n",
      "nan nan\n",
      "nan nan\n",
      "nan nan\n",
      "nan nan\n",
      "nan nan\n",
      "nan nan\n",
      "nan nan\n",
      "nan nan\n",
      "nan nan\n",
      "nan nan\n",
      "14 88224\n",
      "nan nan\n",
      "nan nan\n",
      "nan nan\n",
      "nan nan\n",
      "nan nan\n",
      "nan nan\n",
      "nan nan\n",
      "nan nan\n",
      "nan nan\n",
      "nan nan\n",
      "nan nan\n",
      "nan nan\n",
      "nan nan\n",
      "nan nan\n",
      "15 88224\n"
     ]
    },
    {
     "ename": "KeyboardInterrupt",
     "evalue": "",
     "output_type": "error",
     "traceback": [
      "\u001b[0;31m---------------------------------------------------------------------------\u001b[0m",
      "\u001b[0;31mKeyboardInterrupt\u001b[0m                         Traceback (most recent call last)",
      "\u001b[0;32m<ipython-input-42-a316614bd2a1>\u001b[0m in \u001b[0;36m<module>\u001b[0;34m\u001b[0m\n\u001b[1;32m     10\u001b[0m     \u001b[0mdata\u001b[0m \u001b[0;34m=\u001b[0m \u001b[0mfull_data\u001b[0m\u001b[0;34m[\u001b[0m\u001b[0;34m[\u001b[0m\u001b[0;34m'follower_count'\u001b[0m\u001b[0;34m,\u001b[0m\u001b[0;34m'friends_count'\u001b[0m\u001b[0;34m]\u001b[0m\u001b[0;34m]\u001b[0m\u001b[0;34m.\u001b[0m\u001b[0mcopy\u001b[0m\u001b[0;34m(\u001b[0m\u001b[0;34m)\u001b[0m\u001b[0;34m\u001b[0m\u001b[0;34m\u001b[0m\u001b[0m\n\u001b[1;32m     11\u001b[0m     \u001b[0mdata_norm\u001b[0m \u001b[0;34m=\u001b[0m \u001b[0mpd\u001b[0m\u001b[0;34m.\u001b[0m\u001b[0mDataFrame\u001b[0m\u001b[0;34m(\u001b[0m\u001b[0mStandardScaler\u001b[0m\u001b[0;34m(\u001b[0m\u001b[0;34m)\u001b[0m\u001b[0;34m.\u001b[0m\u001b[0mfit\u001b[0m\u001b[0;34m(\u001b[0m\u001b[0mdata\u001b[0m\u001b[0;34m)\u001b[0m\u001b[0;34m.\u001b[0m\u001b[0mtransform\u001b[0m\u001b[0;34m(\u001b[0m\u001b[0mdata\u001b[0m\u001b[0;34m)\u001b[0m\u001b[0;34m)\u001b[0m\u001b[0;34m\u001b[0m\u001b[0;34m\u001b[0m\u001b[0m\n\u001b[0;32m---> 12\u001b[0;31m     \u001b[0mgroupe\u001b[0m \u001b[0;34m=\u001b[0m \u001b[0mKMeans\u001b[0m\u001b[0;34m(\u001b[0m\u001b[0mn_clusters\u001b[0m \u001b[0;34m=\u001b[0m \u001b[0mnb_cluster\u001b[0m\u001b[0;34m,\u001b[0m \u001b[0mrandom_state\u001b[0m\u001b[0;34m=\u001b[0m\u001b[0;36m42\u001b[0m\u001b[0;34m)\u001b[0m\u001b[0;34m.\u001b[0m\u001b[0mfit_predict\u001b[0m\u001b[0;34m(\u001b[0m\u001b[0mdata_norm\u001b[0m\u001b[0;34m)\u001b[0m\u001b[0;34m\u001b[0m\u001b[0;34m\u001b[0m\u001b[0m\n\u001b[0m\u001b[1;32m     13\u001b[0m     \u001b[0mfull_data\u001b[0m\u001b[0;34m[\u001b[0m\u001b[0;34m'groupe'\u001b[0m\u001b[0;34m]\u001b[0m \u001b[0;34m=\u001b[0m \u001b[0mpd\u001b[0m\u001b[0;34m.\u001b[0m\u001b[0mDataFrame\u001b[0m\u001b[0;34m(\u001b[0m\u001b[0mgroupe\u001b[0m\u001b[0;34m)\u001b[0m\u001b[0;34m\u001b[0m\u001b[0;34m\u001b[0m\u001b[0m\n\u001b[1;32m     14\u001b[0m     \u001b[0mstandard\u001b[0m \u001b[0;34m=\u001b[0m \u001b[0mnp\u001b[0m\u001b[0;34m.\u001b[0m\u001b[0mzeros\u001b[0m\u001b[0;34m(\u001b[0m\u001b[0mnb_cluster\u001b[0m\u001b[0;34m)\u001b[0m\u001b[0;34m\u001b[0m\u001b[0;34m\u001b[0m\u001b[0m\n",
      "\u001b[0;32m~/opt/anaconda3/lib/python3.8/site-packages/sklearn/cluster/_kmeans.py\u001b[0m in \u001b[0;36mfit_predict\u001b[0;34m(self, X, y, sample_weight)\u001b[0m\n\u001b[1;32m   1103\u001b[0m             \u001b[0mIndex\u001b[0m \u001b[0mof\u001b[0m \u001b[0mthe\u001b[0m \u001b[0mcluster\u001b[0m \u001b[0meach\u001b[0m \u001b[0msample\u001b[0m \u001b[0mbelongs\u001b[0m \u001b[0mto\u001b[0m\u001b[0;34m.\u001b[0m\u001b[0;34m\u001b[0m\u001b[0;34m\u001b[0m\u001b[0m\n\u001b[1;32m   1104\u001b[0m         \"\"\"\n\u001b[0;32m-> 1105\u001b[0;31m         \u001b[0;32mreturn\u001b[0m \u001b[0mself\u001b[0m\u001b[0;34m.\u001b[0m\u001b[0mfit\u001b[0m\u001b[0;34m(\u001b[0m\u001b[0mX\u001b[0m\u001b[0;34m,\u001b[0m \u001b[0msample_weight\u001b[0m\u001b[0;34m=\u001b[0m\u001b[0msample_weight\u001b[0m\u001b[0;34m)\u001b[0m\u001b[0;34m.\u001b[0m\u001b[0mlabels_\u001b[0m\u001b[0;34m\u001b[0m\u001b[0;34m\u001b[0m\u001b[0m\n\u001b[0m\u001b[1;32m   1106\u001b[0m \u001b[0;34m\u001b[0m\u001b[0m\n\u001b[1;32m   1107\u001b[0m     \u001b[0;32mdef\u001b[0m \u001b[0mfit_transform\u001b[0m\u001b[0;34m(\u001b[0m\u001b[0mself\u001b[0m\u001b[0;34m,\u001b[0m \u001b[0mX\u001b[0m\u001b[0;34m,\u001b[0m \u001b[0my\u001b[0m\u001b[0;34m=\u001b[0m\u001b[0;32mNone\u001b[0m\u001b[0;34m,\u001b[0m \u001b[0msample_weight\u001b[0m\u001b[0;34m=\u001b[0m\u001b[0;32mNone\u001b[0m\u001b[0;34m)\u001b[0m\u001b[0;34m:\u001b[0m\u001b[0;34m\u001b[0m\u001b[0;34m\u001b[0m\u001b[0m\n",
      "\u001b[0;32m~/opt/anaconda3/lib/python3.8/site-packages/sklearn/cluster/_kmeans.py\u001b[0m in \u001b[0;36mfit\u001b[0;34m(self, X, y, sample_weight)\u001b[0m\n\u001b[1;32m   1049\u001b[0m         \u001b[0;32mfor\u001b[0m \u001b[0mseed\u001b[0m \u001b[0;32min\u001b[0m \u001b[0mseeds\u001b[0m\u001b[0;34m:\u001b[0m\u001b[0;34m\u001b[0m\u001b[0;34m\u001b[0m\u001b[0m\n\u001b[1;32m   1050\u001b[0m             \u001b[0;31m# run a k-means once\u001b[0m\u001b[0;34m\u001b[0m\u001b[0;34m\u001b[0m\u001b[0;34m\u001b[0m\u001b[0m\n\u001b[0;32m-> 1051\u001b[0;31m             labels, inertia, centers, n_iter_ = kmeans_single(\n\u001b[0m\u001b[1;32m   1052\u001b[0m                 \u001b[0mX\u001b[0m\u001b[0;34m,\u001b[0m \u001b[0msample_weight\u001b[0m\u001b[0;34m,\u001b[0m \u001b[0mself\u001b[0m\u001b[0;34m.\u001b[0m\u001b[0mn_clusters\u001b[0m\u001b[0;34m,\u001b[0m \u001b[0mmax_iter\u001b[0m\u001b[0;34m=\u001b[0m\u001b[0mself\u001b[0m\u001b[0;34m.\u001b[0m\u001b[0mmax_iter\u001b[0m\u001b[0;34m,\u001b[0m\u001b[0;34m\u001b[0m\u001b[0;34m\u001b[0m\u001b[0m\n\u001b[1;32m   1053\u001b[0m                 \u001b[0minit\u001b[0m\u001b[0;34m=\u001b[0m\u001b[0minit\u001b[0m\u001b[0;34m,\u001b[0m \u001b[0mverbose\u001b[0m\u001b[0;34m=\u001b[0m\u001b[0mself\u001b[0m\u001b[0;34m.\u001b[0m\u001b[0mverbose\u001b[0m\u001b[0;34m,\u001b[0m \u001b[0mtol\u001b[0m\u001b[0;34m=\u001b[0m\u001b[0mtol\u001b[0m\u001b[0;34m,\u001b[0m\u001b[0;34m\u001b[0m\u001b[0;34m\u001b[0m\u001b[0m\n",
      "\u001b[0;32m~/opt/anaconda3/lib/python3.8/site-packages/sklearn/cluster/_kmeans.py\u001b[0m in \u001b[0;36m_kmeans_single_elkan\u001b[0;34m(X, sample_weight, n_clusters, max_iter, init, verbose, x_squared_norms, random_state, tol, n_threads)\u001b[0m\n\u001b[1;32m    403\u001b[0m \u001b[0;34m\u001b[0m\u001b[0m\n\u001b[1;32m    404\u001b[0m     \u001b[0;31m# init\u001b[0m\u001b[0;34m\u001b[0m\u001b[0;34m\u001b[0m\u001b[0;34m\u001b[0m\u001b[0m\n\u001b[0;32m--> 405\u001b[0;31m     centers = _init_centroids(X, n_clusters, init, random_state=random_state,\n\u001b[0m\u001b[1;32m    406\u001b[0m                               x_squared_norms=x_squared_norms)\n\u001b[1;32m    407\u001b[0m \u001b[0;34m\u001b[0m\u001b[0m\n",
      "\u001b[0;32m~/opt/anaconda3/lib/python3.8/site-packages/sklearn/cluster/_kmeans.py\u001b[0m in \u001b[0;36m_init_centroids\u001b[0;34m(X, n_clusters, init, random_state, x_squared_norms, init_size)\u001b[0m\n\u001b[1;32m    719\u001b[0m \u001b[0;34m\u001b[0m\u001b[0m\n\u001b[1;32m    720\u001b[0m     \u001b[0;32mif\u001b[0m \u001b[0misinstance\u001b[0m\u001b[0;34m(\u001b[0m\u001b[0minit\u001b[0m\u001b[0;34m,\u001b[0m \u001b[0mstr\u001b[0m\u001b[0;34m)\u001b[0m \u001b[0;32mand\u001b[0m \u001b[0minit\u001b[0m \u001b[0;34m==\u001b[0m \u001b[0;34m'k-means++'\u001b[0m\u001b[0;34m:\u001b[0m\u001b[0;34m\u001b[0m\u001b[0;34m\u001b[0m\u001b[0m\n\u001b[0;32m--> 721\u001b[0;31m         centers = _k_init(X, n_clusters, random_state=random_state,\n\u001b[0m\u001b[1;32m    722\u001b[0m                           x_squared_norms=x_squared_norms)\n\u001b[1;32m    723\u001b[0m     \u001b[0;32melif\u001b[0m \u001b[0misinstance\u001b[0m\u001b[0;34m(\u001b[0m\u001b[0minit\u001b[0m\u001b[0;34m,\u001b[0m \u001b[0mstr\u001b[0m\u001b[0;34m)\u001b[0m \u001b[0;32mand\u001b[0m \u001b[0minit\u001b[0m \u001b[0;34m==\u001b[0m \u001b[0;34m'random'\u001b[0m\u001b[0;34m:\u001b[0m\u001b[0;34m\u001b[0m\u001b[0;34m\u001b[0m\u001b[0m\n",
      "\u001b[0;32m~/opt/anaconda3/lib/python3.8/site-packages/sklearn/cluster/_kmeans.py\u001b[0m in \u001b[0;36m_k_init\u001b[0;34m(X, n_clusters, x_squared_norms, random_state, n_local_trials)\u001b[0m\n\u001b[1;32m    111\u001b[0m         \u001b[0;31m# to the squared distance to the closest existing center\u001b[0m\u001b[0;34m\u001b[0m\u001b[0;34m\u001b[0m\u001b[0;34m\u001b[0m\u001b[0m\n\u001b[1;32m    112\u001b[0m         \u001b[0mrand_vals\u001b[0m \u001b[0;34m=\u001b[0m \u001b[0mrandom_state\u001b[0m\u001b[0;34m.\u001b[0m\u001b[0mrandom_sample\u001b[0m\u001b[0;34m(\u001b[0m\u001b[0mn_local_trials\u001b[0m\u001b[0;34m)\u001b[0m \u001b[0;34m*\u001b[0m \u001b[0mcurrent_pot\u001b[0m\u001b[0;34m\u001b[0m\u001b[0;34m\u001b[0m\u001b[0m\n\u001b[0;32m--> 113\u001b[0;31m         candidate_ids = np.searchsorted(stable_cumsum(closest_dist_sq),\n\u001b[0m\u001b[1;32m    114\u001b[0m                                         rand_vals)\n\u001b[1;32m    115\u001b[0m         \u001b[0;31m# XXX: numerical imprecision can result in a candidate_id out of range\u001b[0m\u001b[0;34m\u001b[0m\u001b[0;34m\u001b[0m\u001b[0;34m\u001b[0m\u001b[0m\n",
      "\u001b[0;32m~/opt/anaconda3/lib/python3.8/site-packages/sklearn/utils/extmath.py\u001b[0m in \u001b[0;36mstable_cumsum\u001b[0;34m(arr, axis, rtol, atol)\u001b[0m\n\u001b[1;32m    828\u001b[0m         \u001b[0mAbsolute\u001b[0m \u001b[0mtolerance\u001b[0m\u001b[0;34m,\u001b[0m \u001b[0msee\u001b[0m\u001b[0;31m \u001b[0m\u001b[0;31m`\u001b[0m\u001b[0;31m`\u001b[0m\u001b[0mnp\u001b[0m\u001b[0;34m.\u001b[0m\u001b[0mallclose\u001b[0m\u001b[0;31m`\u001b[0m\u001b[0;31m`\u001b[0m\u001b[0;34m\u001b[0m\u001b[0;34m\u001b[0m\u001b[0m\n\u001b[1;32m    829\u001b[0m     \"\"\"\n\u001b[0;32m--> 830\u001b[0;31m     \u001b[0mout\u001b[0m \u001b[0;34m=\u001b[0m \u001b[0mnp\u001b[0m\u001b[0;34m.\u001b[0m\u001b[0mcumsum\u001b[0m\u001b[0;34m(\u001b[0m\u001b[0marr\u001b[0m\u001b[0;34m,\u001b[0m \u001b[0maxis\u001b[0m\u001b[0;34m=\u001b[0m\u001b[0maxis\u001b[0m\u001b[0;34m,\u001b[0m \u001b[0mdtype\u001b[0m\u001b[0;34m=\u001b[0m\u001b[0mnp\u001b[0m\u001b[0;34m.\u001b[0m\u001b[0mfloat64\u001b[0m\u001b[0;34m)\u001b[0m\u001b[0;34m\u001b[0m\u001b[0;34m\u001b[0m\u001b[0m\n\u001b[0m\u001b[1;32m    831\u001b[0m     \u001b[0mexpected\u001b[0m \u001b[0;34m=\u001b[0m \u001b[0mnp\u001b[0m\u001b[0;34m.\u001b[0m\u001b[0msum\u001b[0m\u001b[0;34m(\u001b[0m\u001b[0marr\u001b[0m\u001b[0;34m,\u001b[0m \u001b[0maxis\u001b[0m\u001b[0;34m=\u001b[0m\u001b[0maxis\u001b[0m\u001b[0;34m,\u001b[0m \u001b[0mdtype\u001b[0m\u001b[0;34m=\u001b[0m\u001b[0mnp\u001b[0m\u001b[0;34m.\u001b[0m\u001b[0mfloat64\u001b[0m\u001b[0;34m)\u001b[0m\u001b[0;34m\u001b[0m\u001b[0;34m\u001b[0m\u001b[0m\n\u001b[1;32m    832\u001b[0m     if not np.all(np.isclose(out.take(-1, axis=axis), expected, rtol=rtol,\n",
      "\u001b[0;32m<__array_function__ internals>\u001b[0m in \u001b[0;36mcumsum\u001b[0;34m(*args, **kwargs)\u001b[0m\n",
      "\u001b[0;32m~/opt/anaconda3/lib/python3.8/site-packages/numpy/core/fromnumeric.py\u001b[0m in \u001b[0;36mcumsum\u001b[0;34m(a, axis, dtype, out)\u001b[0m\n\u001b[1;32m   2468\u001b[0m \u001b[0;34m\u001b[0m\u001b[0m\n\u001b[1;32m   2469\u001b[0m     \"\"\"\n\u001b[0;32m-> 2470\u001b[0;31m     \u001b[0;32mreturn\u001b[0m \u001b[0m_wrapfunc\u001b[0m\u001b[0;34m(\u001b[0m\u001b[0ma\u001b[0m\u001b[0;34m,\u001b[0m \u001b[0;34m'cumsum'\u001b[0m\u001b[0;34m,\u001b[0m \u001b[0maxis\u001b[0m\u001b[0;34m=\u001b[0m\u001b[0maxis\u001b[0m\u001b[0;34m,\u001b[0m \u001b[0mdtype\u001b[0m\u001b[0;34m=\u001b[0m\u001b[0mdtype\u001b[0m\u001b[0;34m,\u001b[0m \u001b[0mout\u001b[0m\u001b[0;34m=\u001b[0m\u001b[0mout\u001b[0m\u001b[0;34m)\u001b[0m\u001b[0;34m\u001b[0m\u001b[0;34m\u001b[0m\u001b[0m\n\u001b[0m\u001b[1;32m   2471\u001b[0m \u001b[0;34m\u001b[0m\u001b[0m\n\u001b[1;32m   2472\u001b[0m \u001b[0;34m\u001b[0m\u001b[0m\n",
      "\u001b[0;32m~/opt/anaconda3/lib/python3.8/site-packages/numpy/core/fromnumeric.py\u001b[0m in \u001b[0;36m_wrapfunc\u001b[0;34m(obj, method, *args, **kwds)\u001b[0m\n\u001b[1;32m     59\u001b[0m \u001b[0;34m\u001b[0m\u001b[0m\n\u001b[1;32m     60\u001b[0m     \u001b[0;32mtry\u001b[0m\u001b[0;34m:\u001b[0m\u001b[0;34m\u001b[0m\u001b[0;34m\u001b[0m\u001b[0m\n\u001b[0;32m---> 61\u001b[0;31m         \u001b[0;32mreturn\u001b[0m \u001b[0mbound\u001b[0m\u001b[0;34m(\u001b[0m\u001b[0;34m*\u001b[0m\u001b[0margs\u001b[0m\u001b[0;34m,\u001b[0m \u001b[0;34m**\u001b[0m\u001b[0mkwds\u001b[0m\u001b[0;34m)\u001b[0m\u001b[0;34m\u001b[0m\u001b[0;34m\u001b[0m\u001b[0m\n\u001b[0m\u001b[1;32m     62\u001b[0m     \u001b[0;32mexcept\u001b[0m \u001b[0mTypeError\u001b[0m\u001b[0;34m:\u001b[0m\u001b[0;34m\u001b[0m\u001b[0;34m\u001b[0m\u001b[0m\n\u001b[1;32m     63\u001b[0m         \u001b[0;31m# A TypeError occurs if the object does have such a method in its\u001b[0m\u001b[0;34m\u001b[0m\u001b[0;34m\u001b[0m\u001b[0;34m\u001b[0m\u001b[0m\n",
      "\u001b[0;31mKeyboardInterrupt\u001b[0m: "
     ]
    }
   ],
   "source": [
    "full_data = clusters_test.loc[clusters_test.retweet_count!=0].copy()\n",
    "\n",
    "stock_cluster =[]\n",
    "pred=[]\n",
    "cluster_new = []\n",
    "\n",
    "nb_cluster = 2\n",
    "N = len(data)\n",
    "while  len(full_data) > 0.3*N:\n",
    "    data = full_data[['follower_count','friends_count']].copy()\n",
    "    data_norm = pd.DataFrame(StandardScaler().fit(data).transform(data))\n",
    "    groupe = KMeans(n_clusters = nb_cluster, random_state=42).fit_predict(data_norm)\n",
    "    full_data['groupe'] = pd.DataFrame(groupe)\n",
    "    standard = np.zeros(nb_cluster)\n",
    "    \n",
    "    for i in range (nb_cluster):\n",
    "        groupe = full_data[(full_data['groupe'] == i)]\n",
    "        \n",
    "        print(groupe['retweet_count'].std(), groupe['retweet_count'].mean())\n",
    "        if standard[i] < groupe['retweet_count'].mean():\n",
    "            \n",
    "            pred.append(groupe)\n",
    "            full_data=full_data[(full_data['groupe'] != i)]\n",
    "            print(len(full_data))\n",
    "            nb_cluster=2\n",
    "            get array (56 and.numpy(pqtricepetitclqir))\n",
    "        \n",
    "        \n",
    "    nb_cluster=2\n",
    "    print(nb_cluster, len(full_data))"
   ]
  },
  {
   "cell_type": "code",
   "execution_count": null,
   "metadata": {},
   "outputs": [],
   "source": [
    "''' some clusters are less precise (higher standard deviation), so the clustering is not really efficient '''"
   ]
  },
  {
   "cell_type": "markdown",
   "metadata": {},
   "source": [
    "# TD applied ML: regression"
   ]
  },
  {
   "cell_type": "code",
   "execution_count": null,
   "metadata": {},
   "outputs": [],
   "source": [
    "'''\n",
    "trying regression on the data, without cluster because they are not really precise\n",
    "'''"
   ]
  },
  {
   "cell_type": "code",
   "execution_count": 20,
   "metadata": {},
   "outputs": [],
   "source": [
    "def split_set(data_to_split, ratio=0.8):\n",
    "    mask = np.random.rand(len(data_to_split)) < ratio\n",
    "    return [data_to_split[mask].reset_index(drop=True), data_to_split[~mask].reset_index(drop=True)]"
   ]
  },
  {
   "cell_type": "code",
   "execution_count": null,
   "metadata": {},
   "outputs": [],
   "source": [
    "'''\n",
    "regression without the date information\n",
    "'''"
   ]
  },
  {
   "cell_type": "code",
   "execution_count": 21,
   "metadata": {},
   "outputs": [],
   "source": [
    "regression = cluster[['follower_count','hashtag','retweet_count', 'friends_count', 'url']]"
   ]
  },
  {
   "cell_type": "code",
   "execution_count": 22,
   "metadata": {},
   "outputs": [],
   "source": [
    "[train, test] = split_set(regression)"
   ]
  },
  {
   "cell_type": "code",
   "execution_count": 23,
   "metadata": {},
   "outputs": [
    {
     "name": "stdout",
     "output_type": "stream",
     "text": [
      "Length of the train dataset : 704770\n",
      "Length of the test dataset : 175515\n"
     ]
    }
   ],
   "source": [
    "train_label=train.retweet_count\n",
    "train_features = train.drop('retweet_count', axis=1)\n",
    "print('Length of the train dataset : {}'.format(len(train)))\n",
    "\n",
    "test_label=test.retweet_count\n",
    "test_features = test.drop('retweet_count', axis=1)\n",
    "print('Length of the test dataset : {}'.format(len(test)))"
   ]
  },
  {
   "cell_type": "code",
   "execution_count": 24,
   "metadata": {},
   "outputs": [
    {
     "data": {
      "text/html": [
       "<div>\n",
       "<style scoped>\n",
       "    .dataframe tbody tr th:only-of-type {\n",
       "        vertical-align: middle;\n",
       "    }\n",
       "\n",
       "    .dataframe tbody tr th {\n",
       "        vertical-align: top;\n",
       "    }\n",
       "\n",
       "    .dataframe thead th {\n",
       "        text-align: right;\n",
       "    }\n",
       "</style>\n",
       "<table border=\"1\" class=\"dataframe\">\n",
       "  <thead>\n",
       "    <tr style=\"text-align: right;\">\n",
       "      <th></th>\n",
       "      <th>follower_count</th>\n",
       "      <th>hashtag</th>\n",
       "      <th>friends_count</th>\n",
       "      <th>url</th>\n",
       "    </tr>\n",
       "  </thead>\n",
       "  <tbody>\n",
       "    <tr>\n",
       "      <th>0</th>\n",
       "      <td>-0.170259</td>\n",
       "      <td>-0.418267</td>\n",
       "      <td>-0.274296</td>\n",
       "      <td>-0.549803</td>\n",
       "    </tr>\n",
       "    <tr>\n",
       "      <th>1</th>\n",
       "      <td>-0.170259</td>\n",
       "      <td>2.390813</td>\n",
       "      <td>-0.274296</td>\n",
       "      <td>-0.549803</td>\n",
       "    </tr>\n",
       "    <tr>\n",
       "      <th>2</th>\n",
       "      <td>-0.170259</td>\n",
       "      <td>-0.418267</td>\n",
       "      <td>-0.274296</td>\n",
       "      <td>-0.549803</td>\n",
       "    </tr>\n",
       "    <tr>\n",
       "      <th>3</th>\n",
       "      <td>-0.170259</td>\n",
       "      <td>2.390813</td>\n",
       "      <td>-0.274296</td>\n",
       "      <td>-0.549803</td>\n",
       "    </tr>\n",
       "    <tr>\n",
       "      <th>4</th>\n",
       "      <td>-0.170259</td>\n",
       "      <td>-0.418267</td>\n",
       "      <td>-0.274296</td>\n",
       "      <td>-0.549803</td>\n",
       "    </tr>\n",
       "  </tbody>\n",
       "</table>\n",
       "</div>"
      ],
      "text/plain": [
       "   follower_count   hashtag  friends_count       url\n",
       "0       -0.170259 -0.418267      -0.274296 -0.549803\n",
       "1       -0.170259  2.390813      -0.274296 -0.549803\n",
       "2       -0.170259 -0.418267      -0.274296 -0.549803\n",
       "3       -0.170259  2.390813      -0.274296 -0.549803\n",
       "4       -0.170259 -0.418267      -0.274296 -0.549803"
      ]
     },
     "execution_count": 24,
     "metadata": {},
     "output_type": "execute_result"
    }
   ],
   "source": [
    "means = train_features.mean()\n",
    "stddevs = train_features.std()\n",
    "\n",
    "train_features_std = pd.DataFrame()\n",
    "for c in train_features.columns:\n",
    "    train_features_std[c] = (train_features[c]-means[c])/stddevs[c]\n",
    "\n",
    "# Use the mean and stddev of the training set\n",
    "test_features_std = pd.DataFrame()\n",
    "for c in test_features.columns:\n",
    "    test_features_std[c] = (test_features[c]-means[c])/stddevs[c]\n",
    "\n",
    "train_features_std.head()"
   ]
  },
  {
   "cell_type": "code",
   "execution_count": null,
   "metadata": {},
   "outputs": [],
   "source": [
    "'''\n",
    "expliquer pourquoi on fait ça !!!!!!!!!!!!!!!!!!!!!!!!!!!!!!!!!!!!!!!!!!!!!!!!!!!!!\n",
    "'''"
   ]
  },
  {
   "cell_type": "code",
   "execution_count": 25,
   "metadata": {},
   "outputs": [
    {
     "name": "stdout",
     "output_type": "stream",
     "text": [
      "R² equal 0.009048\n"
     ]
    }
   ],
   "source": [
    "lin_reg1 = LinearRegression()  # create the model\n",
    "\n",
    "\n",
    "y_train1=train.retweet_count\n",
    "y_test1=test.retweet_count\n",
    "lin_reg1.fit(train_features_std,y_train1) # train\n",
    "\n",
    "# R² obtained\n",
    "score1=lin_reg1.score(test_features_std, y_test1)\n",
    "\n",
    "print('R² equal %f'%(score1))"
   ]
  },
  {
   "cell_type": "code",
   "execution_count": 26,
   "metadata": {},
   "outputs": [
    {
     "data": {
      "text/plain": [
       "0.12502059133662857"
      ]
     },
     "execution_count": 26,
     "metadata": {},
     "output_type": "execute_result"
    }
   ],
   "source": [
    "reg = GradientBoostingRegressor(random_state=0)\n",
    "reg.fit(train_features_std, y_train1)\n",
    "reg.score(test_features_std, y_test1)"
   ]
  },
  {
   "cell_type": "code",
   "execution_count": null,
   "metadata": {},
   "outputs": [],
   "source": [
    "'''\n",
    "commenter les valeurs !!!!!!!!!!!!!!!!!!!!!!!!!!!!!!!!!!!!!!!!!!!!!!!!!!!!!!!!!!!!!!!\n",
    "'''"
   ]
  },
  {
   "cell_type": "markdown",
   "metadata": {},
   "source": [
    "### regression with date"
   ]
  },
  {
   "cell_type": "code",
   "execution_count": 27,
   "metadata": {},
   "outputs": [],
   "source": [
    "# The egos are isolated, we work only with the True ego\n",
    "ego_true = profiles[profiles['IsEgo']==True]\n",
    "\n",
    "# converting Nan into -1\n",
    "ego_bis = ego_true.fillna(-1)\n",
    "\n",
    "\n",
    "# looking for utc_offset lines with Nan, protected ego and no statusescount \n",
    "\n",
    "lines = []\n",
    "\n",
    "for i in range (len(ego_bis)):\n",
    "    if ego_bis.iloc[i][5] == -1  or ego_bis.iloc[i][8] or ego_bis.iloc[i][4] == 0.0:\n",
    "        lines.append(i)\n",
    "        \n",
    "# removing those lines      \n",
    "ego_reduced = ego_bis.drop(ego_bis.index[lines])\n",
    "\n",
    "# stocking the ego_id values that we will use\n",
    "ego_id = np.array(ego_reduced['ID'])"
   ]
  },
  {
   "cell_type": "code",
   "execution_count": 28,
   "metadata": {},
   "outputs": [],
   "source": [
    "# translating the seconds of utc_offet into nanosecondes\n",
    "ego_bis[\"utc_offset\"] = ego_bis[\"utc_offset\"]*1000000000\n",
    "\n",
    "\n",
    "# stocking in column offset and removing the sign of utc_offset with .abs() \n",
    "# to be allow to convert utc_offset into datetime and then keep only the hour information from a datetime\n",
    "\n",
    "offset = []\n",
    "for i in range (len(ego_bis)):\n",
    "    \n",
    "    if ego_bis.iloc[i][5] >= 0:\n",
    "        offset.append(1)\n",
    "    else:\n",
    "        offset.append(-1)\n",
    "\n",
    "ego_bis[\"offset\"] = offset\n",
    "ego_bis[\"utc_offset\"] = ego_bis[\"utc_offset\"].abs()\n",
    "\n",
    "ego_bis[\"utc_offset\"] = pd.to_datetime(ego_bis[\"utc_offset\"]) \n",
    "\n",
    "# hour like 16:54:33 into 16\n",
    "ego_bis[\"utc_offset\"] = ego_bis.utc_offset.dt.hour"
   ]
  },
  {
   "cell_type": "code",
   "execution_count": 29,
   "metadata": {},
   "outputs": [],
   "source": [
    "linetimelines = []\n",
    "\n",
    "for i in range (len(timelines)):\n",
    "    \n",
    "    if timelines.iloc[i][9] not in ego_id:\n",
    "        linetimelines.append(i)\n",
    "\n",
    "timelines_reduced = timelines.drop(timelines.index[linetimelines])"
   ]
  },
  {
   "cell_type": "code",
   "execution_count": 30,
   "metadata": {},
   "outputs": [],
   "source": [
    "timelines_reduced[['Day','Month', 'Date', 'Hour', 'Se', 'Year']] = timelines_reduced.created_at.str.split(\" \",expand=True,)\n"
   ]
  },
  {
   "cell_type": "code",
   "execution_count": 31,
   "metadata": {},
   "outputs": [],
   "source": [
    "# as explained above we only deal with the 2014 tweets\n",
    "\n",
    "time_reduced = timelines_reduced[(timelines_reduced['Year'] == '2014')]"
   ]
  },
  {
   "cell_type": "code",
   "execution_count": 32,
   "metadata": {},
   "outputs": [],
   "source": [
    "time=time_reduced.loc[time_reduced.mentions_ids==0]\n",
    "time=time.loc[time.replytoUserID==0]\n",
    "time=time.loc[time.retweetedUserID==0]"
   ]
  },
  {
   "cell_type": "code",
   "execution_count": 33,
   "metadata": {},
   "outputs": [],
   "source": [
    "# converting 'hour' into datetime and shortening to only have the hour: for instance 16:57:31 becomes 16\n",
    "time[\"Hour\"] = pd.to_datetime(time[\"Hour\"]) \n",
    "time[\"Hour\"] = time.Hour.dt.hour"
   ]
  },
  {
   "cell_type": "code",
   "execution_count": 34,
   "metadata": {},
   "outputs": [],
   "source": [
    "hour_new = []\n",
    "Days = []\n",
    "\n",
    "for i in range (len(time)):\n",
    "    a = time.iloc[i][9]\n",
    "    \n",
    "    # adding the offset depending on his value and sign\n",
    "    b = time.iloc[i][18] + ego_bis.iloc[a-1][5]*ego_bis.iloc[a-1][9]\n",
    "    \n",
    "    if b < 0:\n",
    "    # so we have to go back for 1 day\n",
    "        hour_new.append(b+24)\n",
    "        if time.iloc[i][15] == 'Mon':\n",
    "            Days.append('Sun')\n",
    "        if time.iloc[i][15] == 'Tue':\n",
    "            Days.append('Mon')\n",
    "        if time.iloc[i][15] == 'Wed':\n",
    "            Days.append('Tue')\n",
    "        if time.iloc[i][15] == 'Thu':\n",
    "            Days.append('Wed')\n",
    "        if time.iloc[i][15] == 'Fri':\n",
    "            Days.append('Thu')\n",
    "        if time.iloc[i][15] == 'Sat':\n",
    "            Days.append('Fri')\n",
    "        if time.iloc[i][15] == 'Sun':\n",
    "            Days.append('Sat')\n",
    "    \n",
    "    elif b >= 24:\n",
    "    # we have to go ahead for 1 day\n",
    "        hour_new.append(b-24)\n",
    "        if time.iloc[i][15] == 'Mon':\n",
    "            Days.append('Tue')\n",
    "        if time.iloc[i][15] == 'Tue':\n",
    "            Days.append('Wed')\n",
    "        if time.iloc[i][15] == 'Wed':\n",
    "            Days.append('Thu')\n",
    "        if time.iloc[i][15] == 'Thu':\n",
    "            Days.append('Fri')\n",
    "        if time.iloc[i][15] == 'Fri':\n",
    "            Days.append('Sat')\n",
    "        if time.iloc[i][15] == 'Sat':\n",
    "            Days.append('Sun')\n",
    "        if time.iloc[i][15] == 'Sun':\n",
    "            Days.append('Mon')\n",
    "    else:\n",
    "        hour_new.append(b)\n",
    "        Days.append(time.iloc[i][15])\n"
   ]
  },
  {
   "cell_type": "code",
   "execution_count": 35,
   "metadata": {},
   "outputs": [],
   "source": [
    "time['newhour'] = hour_new\n",
    "time['days'] = Days"
   ]
  },
  {
   "cell_type": "code",
   "execution_count": 36,
   "metadata": {},
   "outputs": [
    {
     "name": "stderr",
     "output_type": "stream",
     "text": [
      "<ipython-input-36-43f815df382c>:19: SettingWithCopyWarning: \n",
      "A value is trying to be set on a copy of a slice from a DataFrame.\n",
      "Try using .loc[row_indexer,col_indexer] = value instead\n",
      "\n",
      "See the caveats in the documentation: https://pandas.pydata.org/pandas-docs/stable/user_guide/indexing.html#returning-a-view-versus-a-copy\n",
      "  regression_date['url'] = url\n",
      "<ipython-input-36-43f815df382c>:20: SettingWithCopyWarning: \n",
      "A value is trying to be set on a copy of a slice from a DataFrame.\n",
      "Try using .loc[row_indexer,col_indexer] = value instead\n",
      "\n",
      "See the caveats in the documentation: https://pandas.pydata.org/pandas-docs/stable/user_guide/indexing.html#returning-a-view-versus-a-copy\n",
      "  regression_date['hashtag'] = hashtag\n"
     ]
    }
   ],
   "source": [
    "regression_date = time[['follower_count','friends_count', 'retweet_count', 'hashtags', 'urls','days', 'newhour', 'Month']]\n",
    "\n",
    "# converting url and hashtag into numbers\n",
    "\n",
    "hashtag = np.zeros(len(regression_date))\n",
    "url = np.zeros(len(regression_date))\n",
    "\n",
    "for i in (range(len(regression_date))):\n",
    "    if regression_date.urls.iloc[i] == 0:\n",
    "        url[i] = 0\n",
    "    else:\n",
    "        url[i] = 1\n",
    "        \n",
    "    if regression_date.hashtags.iloc[i] == 0:\n",
    "        hashtag[i] = 0\n",
    "    else:\n",
    "        hashtag[i] = 1   \n",
    "\n",
    "regression_date['url'] = url\n",
    "regression_date['hashtag'] = hashtag"
   ]
  },
  {
   "cell_type": "code",
   "execution_count": 133,
   "metadata": {},
   "outputs": [],
   "source": [
    "regression_date_bis = regression_date[['follower_count','friends_count', 'retweet_count', 'hashtag', 'url','days', 'newhour','Month']]"
   ]
  },
  {
   "cell_type": "code",
   "execution_count": 134,
   "metadata": {},
   "outputs": [],
   "source": [
    "[train2, test2] = split_set(regression_date_bis)"
   ]
  },
  {
   "cell_type": "markdown",
   "metadata": {},
   "source": [
    "##### converting object like months and days into numbers"
   ]
  },
  {
   "cell_type": "code",
   "execution_count": 135,
   "metadata": {},
   "outputs": [
    {
     "data": {
      "text/html": [
       "<div>\n",
       "<style scoped>\n",
       "    .dataframe tbody tr th:only-of-type {\n",
       "        vertical-align: middle;\n",
       "    }\n",
       "\n",
       "    .dataframe tbody tr th {\n",
       "        vertical-align: top;\n",
       "    }\n",
       "\n",
       "    .dataframe thead th {\n",
       "        text-align: right;\n",
       "    }\n",
       "</style>\n",
       "<table border=\"1\" class=\"dataframe\">\n",
       "  <thead>\n",
       "    <tr style=\"text-align: right;\">\n",
       "      <th></th>\n",
       "      <th>follower_count</th>\n",
       "      <th>friends_count</th>\n",
       "      <th>retweet_count</th>\n",
       "      <th>hashtag</th>\n",
       "      <th>url</th>\n",
       "      <th>newhour</th>\n",
       "      <th>days_Fri</th>\n",
       "      <th>days_Mon</th>\n",
       "      <th>days_Sat</th>\n",
       "      <th>days_Sun</th>\n",
       "      <th>...</th>\n",
       "      <th>Month_Apr</th>\n",
       "      <th>Month_Aug</th>\n",
       "      <th>Month_Feb</th>\n",
       "      <th>Month_Jan</th>\n",
       "      <th>Month_Jul</th>\n",
       "      <th>Month_Jun</th>\n",
       "      <th>Month_Mar</th>\n",
       "      <th>Month_May</th>\n",
       "      <th>Month_Oct</th>\n",
       "      <th>Month_Sep</th>\n",
       "    </tr>\n",
       "  </thead>\n",
       "  <tbody>\n",
       "    <tr>\n",
       "      <th>0</th>\n",
       "      <td>14.0</td>\n",
       "      <td>21.0</td>\n",
       "      <td>0</td>\n",
       "      <td>0.0</td>\n",
       "      <td>0.0</td>\n",
       "      <td>18</td>\n",
       "      <td>0</td>\n",
       "      <td>1</td>\n",
       "      <td>0</td>\n",
       "      <td>0</td>\n",
       "      <td>...</td>\n",
       "      <td>1</td>\n",
       "      <td>0</td>\n",
       "      <td>0</td>\n",
       "      <td>0</td>\n",
       "      <td>0</td>\n",
       "      <td>0</td>\n",
       "      <td>0</td>\n",
       "      <td>0</td>\n",
       "      <td>0</td>\n",
       "      <td>0</td>\n",
       "    </tr>\n",
       "    <tr>\n",
       "      <th>1</th>\n",
       "      <td>14.0</td>\n",
       "      <td>21.0</td>\n",
       "      <td>0</td>\n",
       "      <td>0.0</td>\n",
       "      <td>0.0</td>\n",
       "      <td>18</td>\n",
       "      <td>0</td>\n",
       "      <td>0</td>\n",
       "      <td>1</td>\n",
       "      <td>0</td>\n",
       "      <td>...</td>\n",
       "      <td>1</td>\n",
       "      <td>0</td>\n",
       "      <td>0</td>\n",
       "      <td>0</td>\n",
       "      <td>0</td>\n",
       "      <td>0</td>\n",
       "      <td>0</td>\n",
       "      <td>0</td>\n",
       "      <td>0</td>\n",
       "      <td>0</td>\n",
       "    </tr>\n",
       "    <tr>\n",
       "      <th>2</th>\n",
       "      <td>14.0</td>\n",
       "      <td>21.0</td>\n",
       "      <td>0</td>\n",
       "      <td>0.0</td>\n",
       "      <td>0.0</td>\n",
       "      <td>15</td>\n",
       "      <td>0</td>\n",
       "      <td>0</td>\n",
       "      <td>0</td>\n",
       "      <td>0</td>\n",
       "      <td>...</td>\n",
       "      <td>0</td>\n",
       "      <td>0</td>\n",
       "      <td>1</td>\n",
       "      <td>0</td>\n",
       "      <td>0</td>\n",
       "      <td>0</td>\n",
       "      <td>0</td>\n",
       "      <td>0</td>\n",
       "      <td>0</td>\n",
       "      <td>0</td>\n",
       "    </tr>\n",
       "    <tr>\n",
       "      <th>3</th>\n",
       "      <td>14.0</td>\n",
       "      <td>21.0</td>\n",
       "      <td>0</td>\n",
       "      <td>1.0</td>\n",
       "      <td>0.0</td>\n",
       "      <td>15</td>\n",
       "      <td>0</td>\n",
       "      <td>0</td>\n",
       "      <td>0</td>\n",
       "      <td>1</td>\n",
       "      <td>...</td>\n",
       "      <td>0</td>\n",
       "      <td>0</td>\n",
       "      <td>0</td>\n",
       "      <td>0</td>\n",
       "      <td>0</td>\n",
       "      <td>0</td>\n",
       "      <td>0</td>\n",
       "      <td>0</td>\n",
       "      <td>1</td>\n",
       "      <td>0</td>\n",
       "    </tr>\n",
       "    <tr>\n",
       "      <th>4</th>\n",
       "      <td>14.0</td>\n",
       "      <td>21.0</td>\n",
       "      <td>0</td>\n",
       "      <td>0.0</td>\n",
       "      <td>0.0</td>\n",
       "      <td>10</td>\n",
       "      <td>0</td>\n",
       "      <td>0</td>\n",
       "      <td>1</td>\n",
       "      <td>0</td>\n",
       "      <td>...</td>\n",
       "      <td>0</td>\n",
       "      <td>0</td>\n",
       "      <td>0</td>\n",
       "      <td>0</td>\n",
       "      <td>0</td>\n",
       "      <td>0</td>\n",
       "      <td>0</td>\n",
       "      <td>0</td>\n",
       "      <td>0</td>\n",
       "      <td>1</td>\n",
       "    </tr>\n",
       "  </tbody>\n",
       "</table>\n",
       "<p>5 rows × 23 columns</p>\n",
       "</div>"
      ],
      "text/plain": [
       "   follower_count  friends_count  retweet_count  hashtag  url  newhour  \\\n",
       "0            14.0           21.0              0      0.0  0.0       18   \n",
       "1            14.0           21.0              0      0.0  0.0       18   \n",
       "2            14.0           21.0              0      0.0  0.0       15   \n",
       "3            14.0           21.0              0      1.0  0.0       15   \n",
       "4            14.0           21.0              0      0.0  0.0       10   \n",
       "\n",
       "   days_Fri  days_Mon  days_Sat  days_Sun  ...  Month_Apr  Month_Aug  \\\n",
       "0         0         1         0         0  ...          1          0   \n",
       "1         0         0         1         0  ...          1          0   \n",
       "2         0         0         0         0  ...          0          0   \n",
       "3         0         0         0         1  ...          0          0   \n",
       "4         0         0         1         0  ...          0          0   \n",
       "\n",
       "   Month_Feb  Month_Jan  Month_Jul  Month_Jun  Month_Mar  Month_May  \\\n",
       "0          0          0          0          0          0          0   \n",
       "1          0          0          0          0          0          0   \n",
       "2          1          0          0          0          0          0   \n",
       "3          0          0          0          0          0          0   \n",
       "4          0          0          0          0          0          0   \n",
       "\n",
       "   Month_Oct  Month_Sep  \n",
       "0          0          0  \n",
       "1          0          0  \n",
       "2          0          0  \n",
       "3          1          0  \n",
       "4          0          1  \n",
       "\n",
       "[5 rows x 23 columns]"
      ]
     },
     "execution_count": 135,
     "metadata": {},
     "output_type": "execute_result"
    }
   ],
   "source": [
    "categorical2_columns = ['days','Month']\n",
    "train2_categorical = pd.get_dummies(train2, columns=categorical2_columns)\n",
    "train2_categorical.head()"
   ]
  },
  {
   "cell_type": "code",
   "execution_count": 136,
   "metadata": {},
   "outputs": [],
   "source": [
    "test2_categorical = pd.get_dummies(test2, columns=categorical2_columns)[train2_categorical.columns]"
   ]
  },
  {
   "cell_type": "markdown",
   "metadata": {},
   "source": [
    "#### regression"
   ]
  },
  {
   "cell_type": "code",
   "execution_count": 137,
   "metadata": {},
   "outputs": [
    {
     "name": "stdout",
     "output_type": "stream",
     "text": [
      "Length of the train dataset : 437790\n",
      "Length of the test dataset : 109573\n"
     ]
    }
   ],
   "source": [
    "train2_label=train2_categorical.retweet_count\n",
    "train2_features = train2_categorical.drop('retweet_count', axis=1)\n",
    "print('Length of the train dataset : {}'.format(len(train2)))\n",
    "\n",
    "test2_label=test2_categorical.retweet_count\n",
    "test2_features = test2_categorical.drop('retweet_count', axis=1)\n",
    "print('Length of the test dataset : {}'.format(len(test2)))"
   ]
  },
  {
   "cell_type": "code",
   "execution_count": 138,
   "metadata": {},
   "outputs": [
    {
     "data": {
      "text/html": [
       "<div>\n",
       "<style scoped>\n",
       "    .dataframe tbody tr th:only-of-type {\n",
       "        vertical-align: middle;\n",
       "    }\n",
       "\n",
       "    .dataframe tbody tr th {\n",
       "        vertical-align: top;\n",
       "    }\n",
       "\n",
       "    .dataframe thead th {\n",
       "        text-align: right;\n",
       "    }\n",
       "</style>\n",
       "<table border=\"1\" class=\"dataframe\">\n",
       "  <thead>\n",
       "    <tr style=\"text-align: right;\">\n",
       "      <th></th>\n",
       "      <th>follower_count</th>\n",
       "      <th>friends_count</th>\n",
       "      <th>hashtag</th>\n",
       "      <th>url</th>\n",
       "      <th>newhour</th>\n",
       "      <th>days_Fri</th>\n",
       "      <th>days_Mon</th>\n",
       "      <th>days_Sat</th>\n",
       "      <th>days_Sun</th>\n",
       "      <th>days_Thu</th>\n",
       "      <th>...</th>\n",
       "      <th>Month_Apr</th>\n",
       "      <th>Month_Aug</th>\n",
       "      <th>Month_Feb</th>\n",
       "      <th>Month_Jan</th>\n",
       "      <th>Month_Jul</th>\n",
       "      <th>Month_Jun</th>\n",
       "      <th>Month_Mar</th>\n",
       "      <th>Month_May</th>\n",
       "      <th>Month_Oct</th>\n",
       "      <th>Month_Sep</th>\n",
       "    </tr>\n",
       "  </thead>\n",
       "  <tbody>\n",
       "    <tr>\n",
       "      <th>0</th>\n",
       "      <td>-0.192656</td>\n",
       "      <td>-0.322888</td>\n",
       "      <td>-0.404182</td>\n",
       "      <td>-0.557659</td>\n",
       "      <td>0.632901</td>\n",
       "      <td>-0.400642</td>\n",
       "      <td>2.446554</td>\n",
       "      <td>-0.400688</td>\n",
       "      <td>-0.42077</td>\n",
       "      <td>-0.413040</td>\n",
       "      <td>...</td>\n",
       "      <td>3.259425</td>\n",
       "      <td>-0.364731</td>\n",
       "      <td>-0.274898</td>\n",
       "      <td>-0.294503</td>\n",
       "      <td>-0.35974</td>\n",
       "      <td>-0.327866</td>\n",
       "      <td>-0.305414</td>\n",
       "      <td>-0.325974</td>\n",
       "      <td>-0.397546</td>\n",
       "      <td>-0.364003</td>\n",
       "    </tr>\n",
       "    <tr>\n",
       "      <th>1</th>\n",
       "      <td>-0.192656</td>\n",
       "      <td>-0.322888</td>\n",
       "      <td>-0.404182</td>\n",
       "      <td>-0.557659</td>\n",
       "      <td>0.632901</td>\n",
       "      <td>-0.400642</td>\n",
       "      <td>-0.408737</td>\n",
       "      <td>2.495704</td>\n",
       "      <td>-0.42077</td>\n",
       "      <td>-0.413040</td>\n",
       "      <td>...</td>\n",
       "      <td>3.259425</td>\n",
       "      <td>-0.364731</td>\n",
       "      <td>-0.274898</td>\n",
       "      <td>-0.294503</td>\n",
       "      <td>-0.35974</td>\n",
       "      <td>-0.327866</td>\n",
       "      <td>-0.305414</td>\n",
       "      <td>-0.325974</td>\n",
       "      <td>-0.397546</td>\n",
       "      <td>-0.364003</td>\n",
       "    </tr>\n",
       "    <tr>\n",
       "      <th>2</th>\n",
       "      <td>-0.192656</td>\n",
       "      <td>-0.322888</td>\n",
       "      <td>-0.404182</td>\n",
       "      <td>-0.557659</td>\n",
       "      <td>0.204960</td>\n",
       "      <td>-0.400642</td>\n",
       "      <td>-0.408737</td>\n",
       "      <td>-0.400688</td>\n",
       "      <td>-0.42077</td>\n",
       "      <td>2.421069</td>\n",
       "      <td>...</td>\n",
       "      <td>-0.306802</td>\n",
       "      <td>-0.364731</td>\n",
       "      <td>3.637702</td>\n",
       "      <td>-0.294503</td>\n",
       "      <td>-0.35974</td>\n",
       "      <td>-0.327866</td>\n",
       "      <td>-0.305414</td>\n",
       "      <td>-0.325974</td>\n",
       "      <td>-0.397546</td>\n",
       "      <td>-0.364003</td>\n",
       "    </tr>\n",
       "    <tr>\n",
       "      <th>3</th>\n",
       "      <td>-0.192656</td>\n",
       "      <td>-0.322888</td>\n",
       "      <td>2.474126</td>\n",
       "      <td>-0.557659</td>\n",
       "      <td>0.204960</td>\n",
       "      <td>-0.400642</td>\n",
       "      <td>-0.408737</td>\n",
       "      <td>-0.400688</td>\n",
       "      <td>2.37659</td>\n",
       "      <td>-0.413040</td>\n",
       "      <td>...</td>\n",
       "      <td>-0.306802</td>\n",
       "      <td>-0.364731</td>\n",
       "      <td>-0.274898</td>\n",
       "      <td>-0.294503</td>\n",
       "      <td>-0.35974</td>\n",
       "      <td>-0.327866</td>\n",
       "      <td>-0.305414</td>\n",
       "      <td>-0.325974</td>\n",
       "      <td>2.515429</td>\n",
       "      <td>-0.364003</td>\n",
       "    </tr>\n",
       "    <tr>\n",
       "      <th>4</th>\n",
       "      <td>-0.192656</td>\n",
       "      <td>-0.322888</td>\n",
       "      <td>-0.404182</td>\n",
       "      <td>-0.557659</td>\n",
       "      <td>-0.508276</td>\n",
       "      <td>-0.400642</td>\n",
       "      <td>-0.408737</td>\n",
       "      <td>2.495704</td>\n",
       "      <td>-0.42077</td>\n",
       "      <td>-0.413040</td>\n",
       "      <td>...</td>\n",
       "      <td>-0.306802</td>\n",
       "      <td>-0.364731</td>\n",
       "      <td>-0.274898</td>\n",
       "      <td>-0.294503</td>\n",
       "      <td>-0.35974</td>\n",
       "      <td>-0.327866</td>\n",
       "      <td>-0.305414</td>\n",
       "      <td>-0.325974</td>\n",
       "      <td>-0.397546</td>\n",
       "      <td>2.747222</td>\n",
       "    </tr>\n",
       "  </tbody>\n",
       "</table>\n",
       "<p>5 rows × 22 columns</p>\n",
       "</div>"
      ],
      "text/plain": [
       "   follower_count  friends_count   hashtag       url   newhour  days_Fri  \\\n",
       "0       -0.192656      -0.322888 -0.404182 -0.557659  0.632901 -0.400642   \n",
       "1       -0.192656      -0.322888 -0.404182 -0.557659  0.632901 -0.400642   \n",
       "2       -0.192656      -0.322888 -0.404182 -0.557659  0.204960 -0.400642   \n",
       "3       -0.192656      -0.322888  2.474126 -0.557659  0.204960 -0.400642   \n",
       "4       -0.192656      -0.322888 -0.404182 -0.557659 -0.508276 -0.400642   \n",
       "\n",
       "   days_Mon  days_Sat  days_Sun  days_Thu  ...  Month_Apr  Month_Aug  \\\n",
       "0  2.446554 -0.400688  -0.42077 -0.413040  ...   3.259425  -0.364731   \n",
       "1 -0.408737  2.495704  -0.42077 -0.413040  ...   3.259425  -0.364731   \n",
       "2 -0.408737 -0.400688  -0.42077  2.421069  ...  -0.306802  -0.364731   \n",
       "3 -0.408737 -0.400688   2.37659 -0.413040  ...  -0.306802  -0.364731   \n",
       "4 -0.408737  2.495704  -0.42077 -0.413040  ...  -0.306802  -0.364731   \n",
       "\n",
       "   Month_Feb  Month_Jan  Month_Jul  Month_Jun  Month_Mar  Month_May  \\\n",
       "0  -0.274898  -0.294503   -0.35974  -0.327866  -0.305414  -0.325974   \n",
       "1  -0.274898  -0.294503   -0.35974  -0.327866  -0.305414  -0.325974   \n",
       "2   3.637702  -0.294503   -0.35974  -0.327866  -0.305414  -0.325974   \n",
       "3  -0.274898  -0.294503   -0.35974  -0.327866  -0.305414  -0.325974   \n",
       "4  -0.274898  -0.294503   -0.35974  -0.327866  -0.305414  -0.325974   \n",
       "\n",
       "   Month_Oct  Month_Sep  \n",
       "0  -0.397546  -0.364003  \n",
       "1  -0.397546  -0.364003  \n",
       "2  -0.397546  -0.364003  \n",
       "3   2.515429  -0.364003  \n",
       "4  -0.397546   2.747222  \n",
       "\n",
       "[5 rows x 22 columns]"
      ]
     },
     "execution_count": 138,
     "metadata": {},
     "output_type": "execute_result"
    }
   ],
   "source": [
    "means = train2_features.mean()\n",
    "stddevs = train2_features.std()\n",
    "\n",
    "train2_features_std = pd.DataFrame()\n",
    "for c in train2_features.columns:\n",
    "    train2_features_std[c] = (train2_features[c]-means[c])/stddevs[c]\n",
    "\n",
    "# Use the mean and stddev of the training set\n",
    "test2_features_std = pd.DataFrame()\n",
    "for c in test2_features.columns:\n",
    "    test2_features_std[c] = (test2_features[c]-means[c])/stddevs[c]\n",
    "\n",
    "train2_features_std.head()"
   ]
  },
  {
   "cell_type": "code",
   "execution_count": 139,
   "metadata": {},
   "outputs": [
    {
     "name": "stdout",
     "output_type": "stream",
     "text": [
      "R² equal 0.007961\n"
     ]
    }
   ],
   "source": [
    "lin_reg1 = LinearRegression()  # create the model\n",
    "\n",
    "\n",
    "y_train2=train2.retweet_count\n",
    "y_test2=test2.retweet_count\n",
    "lin_reg1.fit(train2_features_std,y_train2) # train\n",
    "\n",
    "# R² obtained\n",
    "score2=lin_reg1.score(test2_features_std, y_test2)\n",
    "\n",
    "print('R² equal %f'%(score2))"
   ]
  },
  {
   "cell_type": "code",
   "execution_count": 140,
   "metadata": {},
   "outputs": [
    {
     "data": {
      "text/plain": [
       "0.7836850581256467"
      ]
     },
     "execution_count": 140,
     "metadata": {},
     "output_type": "execute_result"
    }
   ],
   "source": [
    "reg = GradientBoostingRegressor(random_state=0)\n",
    "reg.fit(train2_features_std, y_train2)\n",
    "reg.score(test2_features_std, y_test2)"
   ]
  },
  {
   "cell_type": "markdown",
   "metadata": {},
   "source": [
    "### création des clusters sans heure ni jour"
   ]
  },
  {
   "cell_type": "code",
   "execution_count": 141,
   "metadata": {},
   "outputs": [
    {
     "data": {
      "image/png": "[encoded data removed]",
      "text/plain": [
       "<Figure size 1008x144 with 8 Axes>"
      ]
     },
     "metadata": {
      "needs_background": "light"
     },
     "output_type": "display_data"
    }
   ],
   "source": [
    "columns = regression_date_bis.columns\n",
    "\n",
    "fig, axs = plt.subplots(1, len(columns), figsize=(14,2), sharex=False)\n",
    "\n",
    "for column_idx in range(0, len(columns)):\n",
    "    regression_date_bis[columns[column_idx]].hist(bins=20, ax=axs[column_idx], alpha=0.6)\n",
    "    axs[column_idx].set_title(columns[column_idx])\n",
    "    \n",
    "plt.tight_layout()"
   ]
  },
  {
   "cell_type": "code",
   "execution_count": 142,
   "metadata": {},
   "outputs": [],
   "source": [
    "cluster_bis = regression_date_bis[['follower_count', 'friends_count', 'hashtag', 'url']]"
   ]
  },
  {
   "cell_type": "code",
   "execution_count": 143,
   "metadata": {},
   "outputs": [
    {
     "name": "stdout",
     "output_type": "stream",
     "text": [
      "Scaled sample: [-0.19347984 -0.32322343 -0.40393902 -0.55718567]\n"
     ]
    }
   ],
   "source": [
    "scaled2_features = StandardScaler().fit(cluster_bis).transform(cluster_bis)\n",
    "print(\"Scaled sample: %s\" %scaled2_features[0])"
   ]
  },
  {
   "cell_type": "code",
   "execution_count": 144,
   "metadata": {},
   "outputs": [
    {
     "data": {
      "image/png": "[encoded data removed]",
      "text/plain": [
       "<Figure size 432x288 with 1 Axes>"
      ]
     },
     "metadata": {
      "needs_background": "light"
     },
     "output_type": "display_data"
    }
   ],
   "source": [
    "plot_sse(scaled2_features)"
   ]
  },
  {
   "cell_type": "code",
   "execution_count": 145,
   "metadata": {},
   "outputs": [],
   "source": [
    "labels = KMeans(n_clusters=5, random_state=42).fit_predict(scaled2_features)"
   ]
  },
  {
   "cell_type": "code",
   "execution_count": 146,
   "metadata": {},
   "outputs": [
    {
     "name": "stderr",
     "output_type": "stream",
     "text": [
      "<ipython-input-146-11a823f25489>:1: SettingWithCopyWarning: \n",
      "A value is trying to be set on a copy of a slice from a DataFrame.\n",
      "Try using .loc[row_indexer,col_indexer] = value instead\n",
      "\n",
      "See the caveats in the documentation: https://pandas.pydata.org/pandas-docs/stable/user_guide/indexing.html#returning-a-view-versus-a-copy\n",
      "  regression_date_bis['groupe'] = labels\n"
     ]
    }
   ],
   "source": [
    "regression_date_bis['groupe'] = labels"
   ]
  },
  {
   "cell_type": "code",
   "execution_count": 147,
   "metadata": {},
   "outputs": [
    {
     "name": "stdout",
     "output_type": "stream",
     "text": [
      "[1789.39114812  332.57572597   80.82327142 2271.76987442   41.29818248] [ 95887. 368503.   1298.  75751.   5924.]\n"
     ]
    }
   ],
   "source": [
    "standard = np.zeros(5)\n",
    "longueur = np.zeros(5)\n",
    "\n",
    "for i in range (5):\n",
    "    groupe = regression_date_bis[(regression_date_bis['groupe'] == i)]\n",
    "    standard[i] = groupe['retweet_count'].std()\n",
    "    longueur[i] = len(groupe['retweet_count'])\n",
    "    \n",
    "print(standard, longueur)"
   ]
  },
  {
   "cell_type": "code",
   "execution_count": 148,
   "metadata": {},
   "outputs": [
    {
     "data": {
      "text/plain": [
       "1164.6318535444243"
      ]
     },
     "execution_count": 148,
     "metadata": {},
     "output_type": "execute_result"
    }
   ],
   "source": [
    "regression_date_bis['retweet_count'].std()"
   ]
  },
  {
   "cell_type": "code",
   "execution_count": null,
   "metadata": {},
   "outputs": [],
   "source": [
    "'''\n",
    "clusters 0 et 3 nuls\n",
    "'''"
   ]
  },
  {
   "cell_type": "code",
   "execution_count": 149,
   "metadata": {},
   "outputs": [],
   "source": [
    "reg_cluster = regression_date_bis[['follower_count', 'friends_count', 'retweet_count', 'hashtag', 'url','days', 'groupe']]"
   ]
  },
  {
   "cell_type": "markdown",
   "metadata": {},
   "source": [
    "### regression sur les clusters: cluster 4 ici, sans Month car moins précis avec, newhour pas utilisée car soit moins précis avec soit certaines heures ne sont pas dans train ou test"
   ]
  },
  {
   "cell_type": "code",
   "execution_count": 150,
   "metadata": {},
   "outputs": [
    {
     "data": {
      "text/plain": [
       "\"\\n# drop url car dans ce cluster personne n'a de url et hashtag\\ntrain3 = train3.drop('url', axis=1)\\ntest3 = test3.drop('url', axis=1)\\n\\ntrain3 = train3.drop('hashtag', axis=1)\\ntest3 = test3.drop('hashtag', axis=1)\\n\""
      ]
     },
     "execution_count": 150,
     "metadata": {},
     "output_type": "execute_result"
    }
   ],
   "source": [
    "[train3, test3] = split_set(reg_cluster[(reg_cluster['groupe'] == 4)])\n",
    "\n",
    "train3 = train3.drop('groupe', axis=1)\n",
    "test3 = test3.drop('groupe', axis=1)\n",
    "\n",
    "'''\n",
    "# drop url car dans ce cluster personne n'a de url et hashtag\n",
    "train3 = train3.drop('url', axis=1)\n",
    "test3 = test3.drop('url', axis=1)\n",
    "\n",
    "train3 = train3.drop('hashtag', axis=1)\n",
    "test3 = test3.drop('hashtag', axis=1)\n",
    "'''"
   ]
  },
  {
   "cell_type": "code",
   "execution_count": 151,
   "metadata": {},
   "outputs": [],
   "source": [
    "categorical3_columns = ['days']\n",
    "train3_categorical = pd.get_dummies(train3, columns=categorical3_columns)\n",
    "\n",
    "test3_categorical = pd.get_dummies(test3 ,columns=categorical3_columns)[train3_categorical.columns]"
   ]
  },
  {
   "cell_type": "code",
   "execution_count": 152,
   "metadata": {},
   "outputs": [],
   "source": [
    "test3_label = test3_categorical.retweet_count\n",
    "test3_features = test3_categorical.drop('retweet_count', axis=1)\n",
    "\n",
    "train3_label = train3_categorical.retweet_count\n",
    "train3_features = train3_categorical.drop('retweet_count', axis=1)\n",
    "\n",
    "means = train3_features.mean()\n",
    "stddevs = train3_features.std()\n",
    "\n",
    "train3_features_std = pd.DataFrame()\n",
    "for c in train3_features.columns:\n",
    "    train3_features_std[c] = (train3_features[c]-means[c])/stddevs[c]\n",
    "\n",
    "# Use the mean and stddev of the training set\n",
    "test3_features_std = pd.DataFrame()\n",
    "for c in test3_features.columns:\n",
    "    test3_features_std[c] = (test3_features[c]-means[c])/stddevs[c]\n",
    "    \n",
    "y_train3 = train3.retweet_count\n",
    "y_test3 = test3.retweet_count"
   ]
  },
  {
   "cell_type": "code",
   "execution_count": 153,
   "metadata": {},
   "outputs": [
    {
     "data": {
      "text/html": [
       "<div>\n",
       "<style scoped>\n",
       "    .dataframe tbody tr th:only-of-type {\n",
       "        vertical-align: middle;\n",
       "    }\n",
       "\n",
       "    .dataframe tbody tr th {\n",
       "        vertical-align: top;\n",
       "    }\n",
       "\n",
       "    .dataframe thead th {\n",
       "        text-align: right;\n",
       "    }\n",
       "</style>\n",
       "<table border=\"1\" class=\"dataframe\">\n",
       "  <thead>\n",
       "    <tr style=\"text-align: right;\">\n",
       "      <th></th>\n",
       "      <th>follower_count</th>\n",
       "      <th>friends_count</th>\n",
       "      <th>hashtag</th>\n",
       "      <th>url</th>\n",
       "      <th>days_Fri</th>\n",
       "      <th>days_Mon</th>\n",
       "      <th>days_Sat</th>\n",
       "      <th>days_Sun</th>\n",
       "      <th>days_Thu</th>\n",
       "      <th>days_Tue</th>\n",
       "      <th>days_Wed</th>\n",
       "    </tr>\n",
       "  </thead>\n",
       "  <tbody>\n",
       "    <tr>\n",
       "      <th>0</th>\n",
       "      <td>-1.285711</td>\n",
       "      <td>-1.277149</td>\n",
       "      <td>2.293841</td>\n",
       "      <td>1.101545</td>\n",
       "      <td>-0.452112</td>\n",
       "      <td>2.707514</td>\n",
       "      <td>-0.423180</td>\n",
       "      <td>-0.374746</td>\n",
       "      <td>-0.406856</td>\n",
       "      <td>-0.408255</td>\n",
       "      <td>-0.42042</td>\n",
       "    </tr>\n",
       "    <tr>\n",
       "      <th>1</th>\n",
       "      <td>-1.285711</td>\n",
       "      <td>-1.277149</td>\n",
       "      <td>-0.435858</td>\n",
       "      <td>1.101545</td>\n",
       "      <td>-0.452112</td>\n",
       "      <td>2.707514</td>\n",
       "      <td>-0.423180</td>\n",
       "      <td>-0.374746</td>\n",
       "      <td>-0.406856</td>\n",
       "      <td>-0.408255</td>\n",
       "      <td>-0.42042</td>\n",
       "    </tr>\n",
       "    <tr>\n",
       "      <th>2</th>\n",
       "      <td>-1.285711</td>\n",
       "      <td>-1.277149</td>\n",
       "      <td>-0.435858</td>\n",
       "      <td>-0.907626</td>\n",
       "      <td>-0.452112</td>\n",
       "      <td>-0.369265</td>\n",
       "      <td>2.362562</td>\n",
       "      <td>-0.374746</td>\n",
       "      <td>-0.406856</td>\n",
       "      <td>-0.408255</td>\n",
       "      <td>-0.42042</td>\n",
       "    </tr>\n",
       "    <tr>\n",
       "      <th>3</th>\n",
       "      <td>-1.285711</td>\n",
       "      <td>-1.277149</td>\n",
       "      <td>-0.435858</td>\n",
       "      <td>1.101545</td>\n",
       "      <td>-0.452112</td>\n",
       "      <td>-0.369265</td>\n",
       "      <td>2.362562</td>\n",
       "      <td>-0.374746</td>\n",
       "      <td>-0.406856</td>\n",
       "      <td>-0.408255</td>\n",
       "      <td>-0.42042</td>\n",
       "    </tr>\n",
       "    <tr>\n",
       "      <th>4</th>\n",
       "      <td>-1.285711</td>\n",
       "      <td>-1.277149</td>\n",
       "      <td>-0.435858</td>\n",
       "      <td>1.101545</td>\n",
       "      <td>-0.452112</td>\n",
       "      <td>-0.369265</td>\n",
       "      <td>2.362562</td>\n",
       "      <td>-0.374746</td>\n",
       "      <td>-0.406856</td>\n",
       "      <td>-0.408255</td>\n",
       "      <td>-0.42042</td>\n",
       "    </tr>\n",
       "    <tr>\n",
       "      <th>...</th>\n",
       "      <td>...</td>\n",
       "      <td>...</td>\n",
       "      <td>...</td>\n",
       "      <td>...</td>\n",
       "      <td>...</td>\n",
       "      <td>...</td>\n",
       "      <td>...</td>\n",
       "      <td>...</td>\n",
       "      <td>...</td>\n",
       "      <td>...</td>\n",
       "      <td>...</td>\n",
       "    </tr>\n",
       "    <tr>\n",
       "      <th>4761</th>\n",
       "      <td>0.946438</td>\n",
       "      <td>1.096084</td>\n",
       "      <td>-0.435858</td>\n",
       "      <td>1.101545</td>\n",
       "      <td>-0.452112</td>\n",
       "      <td>-0.369265</td>\n",
       "      <td>-0.423180</td>\n",
       "      <td>-0.374746</td>\n",
       "      <td>-0.406856</td>\n",
       "      <td>2.448933</td>\n",
       "      <td>-0.42042</td>\n",
       "    </tr>\n",
       "    <tr>\n",
       "      <th>4762</th>\n",
       "      <td>0.946438</td>\n",
       "      <td>1.096084</td>\n",
       "      <td>-0.435858</td>\n",
       "      <td>1.101545</td>\n",
       "      <td>-0.452112</td>\n",
       "      <td>-0.369265</td>\n",
       "      <td>-0.423180</td>\n",
       "      <td>-0.374746</td>\n",
       "      <td>-0.406856</td>\n",
       "      <td>2.448933</td>\n",
       "      <td>-0.42042</td>\n",
       "    </tr>\n",
       "    <tr>\n",
       "      <th>4763</th>\n",
       "      <td>0.946438</td>\n",
       "      <td>1.096084</td>\n",
       "      <td>-0.435858</td>\n",
       "      <td>1.101545</td>\n",
       "      <td>-0.452112</td>\n",
       "      <td>-0.369265</td>\n",
       "      <td>-0.423180</td>\n",
       "      <td>-0.374746</td>\n",
       "      <td>-0.406856</td>\n",
       "      <td>2.448933</td>\n",
       "      <td>-0.42042</td>\n",
       "    </tr>\n",
       "    <tr>\n",
       "      <th>4764</th>\n",
       "      <td>0.946438</td>\n",
       "      <td>1.096084</td>\n",
       "      <td>-0.435858</td>\n",
       "      <td>1.101545</td>\n",
       "      <td>-0.452112</td>\n",
       "      <td>-0.369265</td>\n",
       "      <td>-0.423180</td>\n",
       "      <td>-0.374746</td>\n",
       "      <td>-0.406856</td>\n",
       "      <td>2.448933</td>\n",
       "      <td>-0.42042</td>\n",
       "    </tr>\n",
       "    <tr>\n",
       "      <th>4765</th>\n",
       "      <td>0.946438</td>\n",
       "      <td>1.096084</td>\n",
       "      <td>-0.435858</td>\n",
       "      <td>1.101545</td>\n",
       "      <td>-0.452112</td>\n",
       "      <td>-0.369265</td>\n",
       "      <td>-0.423180</td>\n",
       "      <td>-0.374746</td>\n",
       "      <td>-0.406856</td>\n",
       "      <td>2.448933</td>\n",
       "      <td>-0.42042</td>\n",
       "    </tr>\n",
       "  </tbody>\n",
       "</table>\n",
       "<p>4766 rows × 11 columns</p>\n",
       "</div>"
      ],
      "text/plain": [
       "      follower_count  friends_count   hashtag       url  days_Fri  days_Mon  \\\n",
       "0          -1.285711      -1.277149  2.293841  1.101545 -0.452112  2.707514   \n",
       "1          -1.285711      -1.277149 -0.435858  1.101545 -0.452112  2.707514   \n",
       "2          -1.285711      -1.277149 -0.435858 -0.907626 -0.452112 -0.369265   \n",
       "3          -1.285711      -1.277149 -0.435858  1.101545 -0.452112 -0.369265   \n",
       "4          -1.285711      -1.277149 -0.435858  1.101545 -0.452112 -0.369265   \n",
       "...              ...            ...       ...       ...       ...       ...   \n",
       "4761        0.946438       1.096084 -0.435858  1.101545 -0.452112 -0.369265   \n",
       "4762        0.946438       1.096084 -0.435858  1.101545 -0.452112 -0.369265   \n",
       "4763        0.946438       1.096084 -0.435858  1.101545 -0.452112 -0.369265   \n",
       "4764        0.946438       1.096084 -0.435858  1.101545 -0.452112 -0.369265   \n",
       "4765        0.946438       1.096084 -0.435858  1.101545 -0.452112 -0.369265   \n",
       "\n",
       "      days_Sat  days_Sun  days_Thu  days_Tue  days_Wed  \n",
       "0    -0.423180 -0.374746 -0.406856 -0.408255  -0.42042  \n",
       "1    -0.423180 -0.374746 -0.406856 -0.408255  -0.42042  \n",
       "2     2.362562 -0.374746 -0.406856 -0.408255  -0.42042  \n",
       "3     2.362562 -0.374746 -0.406856 -0.408255  -0.42042  \n",
       "4     2.362562 -0.374746 -0.406856 -0.408255  -0.42042  \n",
       "...        ...       ...       ...       ...       ...  \n",
       "4761 -0.423180 -0.374746 -0.406856  2.448933  -0.42042  \n",
       "4762 -0.423180 -0.374746 -0.406856  2.448933  -0.42042  \n",
       "4763 -0.423180 -0.374746 -0.406856  2.448933  -0.42042  \n",
       "4764 -0.423180 -0.374746 -0.406856  2.448933  -0.42042  \n",
       "4765 -0.423180 -0.374746 -0.406856  2.448933  -0.42042  \n",
       "\n",
       "[4766 rows x 11 columns]"
      ]
     },
     "execution_count": 153,
     "metadata": {},
     "output_type": "execute_result"
    }
   ],
   "source": [
    "train3_features_std"
   ]
  },
  {
   "cell_type": "code",
   "execution_count": 154,
   "metadata": {},
   "outputs": [
    {
     "name": "stdout",
     "output_type": "stream",
     "text": [
      "R² equal 0.036585\n"
     ]
    }
   ],
   "source": [
    "lin_reg1.fit(train3_features_std,y_train3) # train\n",
    "\n",
    "# R² obtained\n",
    "score3=lin_reg1.score(test3_features_std, y_test3)\n",
    "\n",
    "print('R² equal %f'%(score3))"
   ]
  },
  {
   "cell_type": "code",
   "execution_count": 155,
   "metadata": {},
   "outputs": [
    {
     "data": {
      "text/plain": [
       "0.03977501341039125"
      ]
     },
     "execution_count": 155,
     "metadata": {},
     "output_type": "execute_result"
    }
   ],
   "source": [
    "reg = GradientBoostingRegressor(random_state=0)\n",
    "reg.fit(train3_features_std, y_train3)\n",
    "reg.score(test3_features_std, y_test3)"
   ]
  },
  {
   "cell_type": "code",
   "execution_count": null,
   "metadata": {},
   "outputs": [],
   "source": [
    "'''\n",
    "pb des clusters: nul parce que certains ont une plus grande standard deviation que la data\n",
    "pb de 1 seul ego dedans aussi\n",
    "pb de certaines horaires qu'on ne retoruve pas\n",
    "moins précis sur des clusters\n",
    "'''"
   ]
  },
  {
   "cell_type": "markdown",
   "metadata": {},
   "source": [
    "### cluster avec date"
   ]
  },
  {
   "cell_type": "code",
   "execution_count": 156,
   "metadata": {},
   "outputs": [],
   "source": [
    "regression2_date = regression_date_bis"
   ]
  },
  {
   "cell_type": "code",
   "execution_count": 157,
   "metadata": {},
   "outputs": [],
   "source": [
    "cluster_ter = regression2_date[['follower_count', 'friends_count', 'hashtag', 'url', 'newhour', 'days']]"
   ]
  },
  {
   "cell_type": "code",
   "execution_count": 158,
   "metadata": {},
   "outputs": [],
   "source": [
    "categorical4_columns = ['days']\n",
    "cluster_ter2 = pd.get_dummies(cluster_ter, columns=categorical4_columns)\n"
   ]
  },
  {
   "cell_type": "code",
   "execution_count": 159,
   "metadata": {},
   "outputs": [
    {
     "name": "stdout",
     "output_type": "stream",
     "text": [
      "Scaled sample: [-0.19347984 -0.32322343 -0.40393902 -0.55718567 -0.08028665 -0.40100936\n",
      " -0.40920802 -0.40072693  2.37733365 -0.41263691 -0.40315849 -0.41019632]\n"
     ]
    }
   ],
   "source": [
    "scaled3_features = StandardScaler().fit(cluster_ter2).transform(cluster_ter2)\n",
    "print(\"Scaled sample: %s\" %scaled3_features[0])"
   ]
  },
  {
   "cell_type": "code",
   "execution_count": 160,
   "metadata": {},
   "outputs": [
    {
     "data": {
      "image/png": "[encoded data removed]",
      "text/plain": [
       "<Figure size 432x288 with 1 Axes>"
      ]
     },
     "metadata": {
      "needs_background": "light"
     },
     "output_type": "display_data"
    }
   ],
   "source": [
    "plot_sse(scaled3_features)"
   ]
  },
  {
   "cell_type": "code",
   "execution_count": 161,
   "metadata": {},
   "outputs": [],
   "source": [
    "labels2 = KMeans(n_clusters=9, random_state=42).fit_predict(scaled3_features)"
   ]
  },
  {
   "cell_type": "code",
   "execution_count": 168,
   "metadata": {},
   "outputs": [
    {
     "name": "stderr",
     "output_type": "stream",
     "text": [
      "<ipython-input-168-385e5c1da83c>:1: SettingWithCopyWarning: \n",
      "A value is trying to be set on a copy of a slice from a DataFrame.\n",
      "Try using .loc[row_indexer,col_indexer] = value instead\n",
      "\n",
      "See the caveats in the documentation: https://pandas.pydata.org/pandas-docs/stable/user_guide/indexing.html#returning-a-view-versus-a-copy\n",
      "  regression2_date['groupe'] = labels2\n"
     ]
    }
   ],
   "source": [
    "regression2_date['groupe'] = labels2"
   ]
  },
  {
   "cell_type": "code",
   "execution_count": 169,
   "metadata": {},
   "outputs": [
    {
     "name": "stdout",
     "output_type": "stream",
     "text": [
      "[1713.32821159 1350.63699253  856.4116176   925.82682406  765.96349418\n",
      "  811.52244709 1420.18638571   41.29818248   80.82327142] [77776. 78546. 77671. 81404. 74669. 75420. 74655.  5924.  1298.]\n"
     ]
    }
   ],
   "source": [
    "standard = np.zeros(9)\n",
    "longueur = np.zeros(9)\n",
    "\n",
    "for i in range (9):\n",
    "    groupe = regression2_date[(regression2_date['groupe'] == i)]\n",
    "    standard[i] = groupe['retweet_count'].std()\n",
    "    longueur[i] = len(groupe['retweet_count'])\n",
    "    \n",
    "print(standard, longueur)"
   ]
  },
  {
   "cell_type": "code",
   "execution_count": 170,
   "metadata": {},
   "outputs": [
    {
     "data": {
      "text/plain": [
       "1164.6318535444243"
      ]
     },
     "execution_count": 170,
     "metadata": {},
     "output_type": "execute_result"
    }
   ],
   "source": [
    "regression2_date['retweet_count'].std()"
   ]
  },
  {
   "cell_type": "code",
   "execution_count": null,
   "metadata": {},
   "outputs": [],
   "source": [
    "'''\n",
    "certains clusters ont l'air intéressants\n",
    "'''"
   ]
  },
  {
   "cell_type": "code",
   "execution_count": 171,
   "metadata": {},
   "outputs": [
    {
     "data": {
      "text/html": [
       "<div>\n",
       "<style scoped>\n",
       "    .dataframe tbody tr th:only-of-type {\n",
       "        vertical-align: middle;\n",
       "    }\n",
       "\n",
       "    .dataframe tbody tr th {\n",
       "        vertical-align: top;\n",
       "    }\n",
       "\n",
       "    .dataframe thead th {\n",
       "        text-align: right;\n",
       "    }\n",
       "</style>\n",
       "<table border=\"1\" class=\"dataframe\">\n",
       "  <thead>\n",
       "    <tr style=\"text-align: right;\">\n",
       "      <th></th>\n",
       "      <th>follower_count</th>\n",
       "      <th>friends_count</th>\n",
       "      <th>retweet_count</th>\n",
       "      <th>hashtag</th>\n",
       "      <th>url</th>\n",
       "      <th>days</th>\n",
       "      <th>newhour</th>\n",
       "      <th>Month</th>\n",
       "      <th>groupe</th>\n",
       "    </tr>\n",
       "  </thead>\n",
       "  <tbody>\n",
       "    <tr>\n",
       "      <th>3216</th>\n",
       "      <td>14.0</td>\n",
       "      <td>21.0</td>\n",
       "      <td>0</td>\n",
       "      <td>0.0</td>\n",
       "      <td>0.0</td>\n",
       "      <td>Sun</td>\n",
       "      <td>13</td>\n",
       "      <td>Jul</td>\n",
       "      <td>3</td>\n",
       "    </tr>\n",
       "    <tr>\n",
       "      <th>3217</th>\n",
       "      <td>14.0</td>\n",
       "      <td>21.0</td>\n",
       "      <td>0</td>\n",
       "      <td>0.0</td>\n",
       "      <td>0.0</td>\n",
       "      <td>Mon</td>\n",
       "      <td>18</td>\n",
       "      <td>Apr</td>\n",
       "      <td>2</td>\n",
       "    </tr>\n",
       "    <tr>\n",
       "      <th>3218</th>\n",
       "      <td>14.0</td>\n",
       "      <td>21.0</td>\n",
       "      <td>1</td>\n",
       "      <td>0.0</td>\n",
       "      <td>0.0</td>\n",
       "      <td>Sat</td>\n",
       "      <td>13</td>\n",
       "      <td>May</td>\n",
       "      <td>4</td>\n",
       "    </tr>\n",
       "    <tr>\n",
       "      <th>3219</th>\n",
       "      <td>14.0</td>\n",
       "      <td>21.0</td>\n",
       "      <td>0</td>\n",
       "      <td>0.0</td>\n",
       "      <td>0.0</td>\n",
       "      <td>Sat</td>\n",
       "      <td>18</td>\n",
       "      <td>Apr</td>\n",
       "      <td>4</td>\n",
       "    </tr>\n",
       "    <tr>\n",
       "      <th>3220</th>\n",
       "      <td>14.0</td>\n",
       "      <td>21.0</td>\n",
       "      <td>0</td>\n",
       "      <td>0.0</td>\n",
       "      <td>0.0</td>\n",
       "      <td>Thu</td>\n",
       "      <td>15</td>\n",
       "      <td>Feb</td>\n",
       "      <td>1</td>\n",
       "    </tr>\n",
       "  </tbody>\n",
       "</table>\n",
       "</div>"
      ],
      "text/plain": [
       "      follower_count  friends_count  retweet_count  hashtag  url days  \\\n",
       "3216            14.0           21.0              0      0.0  0.0  Sun   \n",
       "3217            14.0           21.0              0      0.0  0.0  Mon   \n",
       "3218            14.0           21.0              1      0.0  0.0  Sat   \n",
       "3219            14.0           21.0              0      0.0  0.0  Sat   \n",
       "3220            14.0           21.0              0      0.0  0.0  Thu   \n",
       "\n",
       "      newhour Month  groupe  \n",
       "3216       13   Jul       3  \n",
       "3217       18   Apr       2  \n",
       "3218       13   May       4  \n",
       "3219       18   Apr       4  \n",
       "3220       15   Feb       1  "
      ]
     },
     "execution_count": 171,
     "metadata": {},
     "output_type": "execute_result"
    }
   ],
   "source": [
    "regression2_date.head()"
   ]
  },
  {
   "cell_type": "code",
   "execution_count": 172,
   "metadata": {},
   "outputs": [],
   "source": [
    "reg2_cluster = regression2_date[['follower_count', 'friends_count', 'retweet_count', 'hashtag', 'url','days', 'groupe']]"
   ]
  },
  {
   "cell_type": "code",
   "execution_count": 173,
   "metadata": {},
   "outputs": [
    {
     "data": {
      "text/plain": [
       "\"\\n# drop url car dans ce cluster personne n'a de url et hashtag\\ntrain3 = train3.drop('url', axis=1)\\ntest3 = test3.drop('url', axis=1)\\n\\ntrain3 = train3.drop('hashtag', axis=1)\\ntest3 = test3.drop('hashtag', axis=1)\\n\""
      ]
     },
     "execution_count": 173,
     "metadata": {},
     "output_type": "execute_result"
    }
   ],
   "source": [
    "[train4, test4] = split_set(reg2_cluster[(reg2_cluster['groupe'] == 7)])\n",
    "\n",
    "train4 = train4.drop('groupe', axis=1)\n",
    "test4 = test4.drop('groupe', axis=1)\n",
    "\n",
    "'''\n",
    "# drop url car dans ce cluster personne n'a de url et hashtag\n",
    "train3 = train3.drop('url', axis=1)\n",
    "test3 = test3.drop('url', axis=1)\n",
    "\n",
    "train3 = train3.drop('hashtag', axis=1)\n",
    "test3 = test3.drop('hashtag', axis=1)\n",
    "'''"
   ]
  },
  {
   "cell_type": "code",
   "execution_count": 174,
   "metadata": {},
   "outputs": [],
   "source": [
    "categorical5_columns = ['days']\n",
    "train4_categorical = pd.get_dummies(train4, columns=categorical5_columns)\n",
    "\n",
    "test4_categorical = pd.get_dummies(test4 ,columns=categorical5_columns)[train4_categorical.columns]"
   ]
  },
  {
   "cell_type": "code",
   "execution_count": 175,
   "metadata": {},
   "outputs": [],
   "source": [
    "test4_label = test4_categorical.retweet_count\n",
    "test4_features = test4_categorical.drop('retweet_count', axis=1)\n",
    "\n",
    "train4_label = train4_categorical.retweet_count\n",
    "train4_features = train4_categorical.drop('retweet_count', axis=1)\n",
    "\n",
    "means = train4_features.mean()\n",
    "stddevs = train4_features.std()\n",
    "\n",
    "train4_features_std = pd.DataFrame()\n",
    "for c in train4_features.columns:\n",
    "    train4_features_std[c] = (train4_features[c]-means[c])/stddevs[c]\n",
    "\n",
    "# Use the mean and stddev of the training set\n",
    "test4_features_std = pd.DataFrame()\n",
    "for c in test4_features.columns:\n",
    "    test4_features_std[c] = (test4_features[c]-means[c])/stddevs[c]\n",
    "    \n",
    "y_train4 = train4.retweet_count\n",
    "y_test4 = test4.retweet_count"
   ]
  },
  {
   "cell_type": "code",
   "execution_count": 176,
   "metadata": {},
   "outputs": [
    {
     "data": {
      "text/html": [
       "<div>\n",
       "<style scoped>\n",
       "    .dataframe tbody tr th:only-of-type {\n",
       "        vertical-align: middle;\n",
       "    }\n",
       "\n",
       "    .dataframe tbody tr th {\n",
       "        vertical-align: top;\n",
       "    }\n",
       "\n",
       "    .dataframe thead th {\n",
       "        text-align: right;\n",
       "    }\n",
       "</style>\n",
       "<table border=\"1\" class=\"dataframe\">\n",
       "  <thead>\n",
       "    <tr style=\"text-align: right;\">\n",
       "      <th></th>\n",
       "      <th>follower_count</th>\n",
       "      <th>friends_count</th>\n",
       "      <th>hashtag</th>\n",
       "      <th>url</th>\n",
       "      <th>days_Fri</th>\n",
       "      <th>days_Mon</th>\n",
       "      <th>days_Sat</th>\n",
       "      <th>days_Sun</th>\n",
       "      <th>days_Thu</th>\n",
       "      <th>days_Tue</th>\n",
       "      <th>days_Wed</th>\n",
       "    </tr>\n",
       "  </thead>\n",
       "  <tbody>\n",
       "    <tr>\n",
       "      <th>0</th>\n",
       "      <td>-1.283599</td>\n",
       "      <td>-1.277122</td>\n",
       "      <td>2.365365</td>\n",
       "      <td>1.086905</td>\n",
       "      <td>-0.458317</td>\n",
       "      <td>2.703115</td>\n",
       "      <td>-0.422334</td>\n",
       "      <td>-0.373519</td>\n",
       "      <td>-0.401792</td>\n",
       "      <td>-0.405305</td>\n",
       "      <td>-0.423368</td>\n",
       "    </tr>\n",
       "    <tr>\n",
       "      <th>1</th>\n",
       "      <td>-1.283599</td>\n",
       "      <td>-1.277122</td>\n",
       "      <td>-0.422679</td>\n",
       "      <td>1.086905</td>\n",
       "      <td>-0.458317</td>\n",
       "      <td>2.703115</td>\n",
       "      <td>-0.422334</td>\n",
       "      <td>-0.373519</td>\n",
       "      <td>-0.401792</td>\n",
       "      <td>-0.405305</td>\n",
       "      <td>-0.423368</td>\n",
       "    </tr>\n",
       "    <tr>\n",
       "      <th>2</th>\n",
       "      <td>-1.283599</td>\n",
       "      <td>-1.277122</td>\n",
       "      <td>-0.422679</td>\n",
       "      <td>-0.919851</td>\n",
       "      <td>-0.458317</td>\n",
       "      <td>-0.369866</td>\n",
       "      <td>2.367295</td>\n",
       "      <td>-0.373519</td>\n",
       "      <td>-0.401792</td>\n",
       "      <td>-0.405305</td>\n",
       "      <td>-0.423368</td>\n",
       "    </tr>\n",
       "    <tr>\n",
       "      <th>3</th>\n",
       "      <td>-1.283599</td>\n",
       "      <td>-1.277122</td>\n",
       "      <td>-0.422679</td>\n",
       "      <td>1.086905</td>\n",
       "      <td>-0.458317</td>\n",
       "      <td>-0.369866</td>\n",
       "      <td>2.367295</td>\n",
       "      <td>-0.373519</td>\n",
       "      <td>-0.401792</td>\n",
       "      <td>-0.405305</td>\n",
       "      <td>-0.423368</td>\n",
       "    </tr>\n",
       "    <tr>\n",
       "      <th>4</th>\n",
       "      <td>-1.283599</td>\n",
       "      <td>-1.277122</td>\n",
       "      <td>-0.422679</td>\n",
       "      <td>1.086905</td>\n",
       "      <td>-0.458317</td>\n",
       "      <td>-0.369866</td>\n",
       "      <td>2.367295</td>\n",
       "      <td>-0.373519</td>\n",
       "      <td>-0.401792</td>\n",
       "      <td>-0.405305</td>\n",
       "      <td>-0.423368</td>\n",
       "    </tr>\n",
       "    <tr>\n",
       "      <th>...</th>\n",
       "      <td>...</td>\n",
       "      <td>...</td>\n",
       "      <td>...</td>\n",
       "      <td>...</td>\n",
       "      <td>...</td>\n",
       "      <td>...</td>\n",
       "      <td>...</td>\n",
       "      <td>...</td>\n",
       "      <td>...</td>\n",
       "      <td>...</td>\n",
       "      <td>...</td>\n",
       "    </tr>\n",
       "    <tr>\n",
       "      <th>4764</th>\n",
       "      <td>0.941053</td>\n",
       "      <td>1.093223</td>\n",
       "      <td>-0.422679</td>\n",
       "      <td>1.086905</td>\n",
       "      <td>-0.458317</td>\n",
       "      <td>-0.369866</td>\n",
       "      <td>-0.422334</td>\n",
       "      <td>-0.373519</td>\n",
       "      <td>-0.401792</td>\n",
       "      <td>2.466760</td>\n",
       "      <td>-0.423368</td>\n",
       "    </tr>\n",
       "    <tr>\n",
       "      <th>4765</th>\n",
       "      <td>0.941053</td>\n",
       "      <td>1.093223</td>\n",
       "      <td>-0.422679</td>\n",
       "      <td>1.086905</td>\n",
       "      <td>-0.458317</td>\n",
       "      <td>-0.369866</td>\n",
       "      <td>-0.422334</td>\n",
       "      <td>-0.373519</td>\n",
       "      <td>-0.401792</td>\n",
       "      <td>2.466760</td>\n",
       "      <td>-0.423368</td>\n",
       "    </tr>\n",
       "    <tr>\n",
       "      <th>4766</th>\n",
       "      <td>0.941053</td>\n",
       "      <td>1.093223</td>\n",
       "      <td>-0.422679</td>\n",
       "      <td>1.086905</td>\n",
       "      <td>-0.458317</td>\n",
       "      <td>-0.369866</td>\n",
       "      <td>-0.422334</td>\n",
       "      <td>-0.373519</td>\n",
       "      <td>-0.401792</td>\n",
       "      <td>2.466760</td>\n",
       "      <td>-0.423368</td>\n",
       "    </tr>\n",
       "    <tr>\n",
       "      <th>4767</th>\n",
       "      <td>0.941053</td>\n",
       "      <td>1.093223</td>\n",
       "      <td>-0.422679</td>\n",
       "      <td>1.086905</td>\n",
       "      <td>-0.458317</td>\n",
       "      <td>-0.369866</td>\n",
       "      <td>-0.422334</td>\n",
       "      <td>-0.373519</td>\n",
       "      <td>-0.401792</td>\n",
       "      <td>2.466760</td>\n",
       "      <td>-0.423368</td>\n",
       "    </tr>\n",
       "    <tr>\n",
       "      <th>4768</th>\n",
       "      <td>0.941053</td>\n",
       "      <td>1.093223</td>\n",
       "      <td>-0.422679</td>\n",
       "      <td>1.086905</td>\n",
       "      <td>-0.458317</td>\n",
       "      <td>-0.369866</td>\n",
       "      <td>-0.422334</td>\n",
       "      <td>-0.373519</td>\n",
       "      <td>-0.401792</td>\n",
       "      <td>2.466760</td>\n",
       "      <td>-0.423368</td>\n",
       "    </tr>\n",
       "  </tbody>\n",
       "</table>\n",
       "<p>4769 rows × 11 columns</p>\n",
       "</div>"
      ],
      "text/plain": [
       "      follower_count  friends_count   hashtag       url  days_Fri  days_Mon  \\\n",
       "0          -1.283599      -1.277122  2.365365  1.086905 -0.458317  2.703115   \n",
       "1          -1.283599      -1.277122 -0.422679  1.086905 -0.458317  2.703115   \n",
       "2          -1.283599      -1.277122 -0.422679 -0.919851 -0.458317 -0.369866   \n",
       "3          -1.283599      -1.277122 -0.422679  1.086905 -0.458317 -0.369866   \n",
       "4          -1.283599      -1.277122 -0.422679  1.086905 -0.458317 -0.369866   \n",
       "...              ...            ...       ...       ...       ...       ...   \n",
       "4764        0.941053       1.093223 -0.422679  1.086905 -0.458317 -0.369866   \n",
       "4765        0.941053       1.093223 -0.422679  1.086905 -0.458317 -0.369866   \n",
       "4766        0.941053       1.093223 -0.422679  1.086905 -0.458317 -0.369866   \n",
       "4767        0.941053       1.093223 -0.422679  1.086905 -0.458317 -0.369866   \n",
       "4768        0.941053       1.093223 -0.422679  1.086905 -0.458317 -0.369866   \n",
       "\n",
       "      days_Sat  days_Sun  days_Thu  days_Tue  days_Wed  \n",
       "0    -0.422334 -0.373519 -0.401792 -0.405305 -0.423368  \n",
       "1    -0.422334 -0.373519 -0.401792 -0.405305 -0.423368  \n",
       "2     2.367295 -0.373519 -0.401792 -0.405305 -0.423368  \n",
       "3     2.367295 -0.373519 -0.401792 -0.405305 -0.423368  \n",
       "4     2.367295 -0.373519 -0.401792 -0.405305 -0.423368  \n",
       "...        ...       ...       ...       ...       ...  \n",
       "4764 -0.422334 -0.373519 -0.401792  2.466760 -0.423368  \n",
       "4765 -0.422334 -0.373519 -0.401792  2.466760 -0.423368  \n",
       "4766 -0.422334 -0.373519 -0.401792  2.466760 -0.423368  \n",
       "4767 -0.422334 -0.373519 -0.401792  2.466760 -0.423368  \n",
       "4768 -0.422334 -0.373519 -0.401792  2.466760 -0.423368  \n",
       "\n",
       "[4769 rows x 11 columns]"
      ]
     },
     "execution_count": 176,
     "metadata": {},
     "output_type": "execute_result"
    }
   ],
   "source": [
    "train4_features_std"
   ]
  },
  {
   "cell_type": "code",
   "execution_count": 177,
   "metadata": {},
   "outputs": [
    {
     "name": "stdout",
     "output_type": "stream",
     "text": [
      "R² equal 0.028686\n"
     ]
    }
   ],
   "source": [
    "lin_reg1.fit(train4_features_std,y_train4) # train\n",
    "\n",
    "# R² obtained\n",
    "score4=lin_reg1.score(test4_features_std, y_test4)\n",
    "\n",
    "print('R² equal %f'%(score4))"
   ]
  },
  {
   "cell_type": "code",
   "execution_count": 178,
   "metadata": {},
   "outputs": [
    {
     "data": {
      "text/plain": [
       "0.03287040243424655"
      ]
     },
     "execution_count": 178,
     "metadata": {},
     "output_type": "execute_result"
    }
   ],
   "source": [
    "reg = GradientBoostingRegressor(random_state=0)\n",
    "reg.fit(train4_features_std, y_train4)\n",
    "reg.score(test4_features_std, y_test4)"
   ]
  },
  {
   "cell_type": "code",
   "execution_count": null,
   "metadata": {},
   "outputs": [],
   "source": [
    "'''\n",
    "donc cluster avec tous c'est nul\n",
    "'''"
   ]
  }
 ],
 "metadata": {
  "kernelspec": {
   "display_name": "Python 3",
   "language": "python",
   "name": "python3"
  },
  "language_info": {
   "codemirror_mode": {
    "name": "ipython",
    "version": 3
   },
   "file_extension": ".py",
   "mimetype": "text/x-python",
   "name": "python",
   "nbconvert_exporter": "python",
   "pygments_lexer": "ipython3",
   "version": "3.8.3"
  }
 },
 "nbformat": 4,
 "nbformat_minor": 4
}
